{
 "cells": [
  {
   "cell_type": "markdown",
   "metadata": {},
   "source": [
    "Primeira parte:\n",
    "    • Representação (genótipo): string de bits #OK\n",
    "    • Recombinação: “cut-and-crossfill” crossover #OK\n",
    "    • Probabilidade de Recombinação: 90%\n",
    "    • Mutação: troca de genes #OK\n",
    "    • Probabilidade de Mutação: 40%\n",
    "    • Seleção de pais: ranking - Melhor de 2 de 5 escolhidos aleatoriamente #OK\n",
    "    • Seleção de sobreviventes: substituição do pior\n",
    "    • Tamanho da população: 100 #OK\n",
    "    • Número de filhos gerados: 2\n",
    "    • Inicialização: aleatória #OK\n",
    "    • Condição de término: Encontrar a solução, ou 10.000 avaliações de fitness #OK\n",
    "    • Fitness #OK"
   ]
  },
  {
   "cell_type": "code",
   "execution_count": 1,
   "metadata": {},
   "outputs": [],
   "source": [
    "from random import randint\n",
    "import numpy as np\n",
    "import pandas as pd\n",
    "import seaborn as sns\n",
    "import matplotlib.pyplot as plt\n",
    "%matplotlib inline"
   ]
  },
  {
   "cell_type": "code",
   "execution_count": 2,
   "metadata": {},
   "outputs": [],
   "source": [
    "populationSize = 100"
   ]
  },
  {
   "cell_type": "markdown",
   "metadata": {},
   "source": [
    "### Funções auxiliares"
   ]
  },
  {
   "cell_type": "code",
   "execution_count": 3,
   "metadata": {},
   "outputs": [],
   "source": [
    "def run30():\n",
    "    aux = []\n",
    "    print('Executando: ', end= ' ')\n",
    "    for x in range(0,30):\n",
    "        print(x, end=' ')\n",
    "        chess, results = generateSolution()\n",
    "        aux.append(results[-1])\n",
    "    return pd.DataFrame(aux)"
   ]
  },
  {
   "cell_type": "code",
   "execution_count": 4,
   "metadata": {},
   "outputs": [],
   "source": [
    "def generateScatterPlot(df):\n",
    "    plt.figure(figsize=(15,4))\n",
    "    ax = sns.scatterplot(data= df, x='iteracao', y = 'meanFitness')\n",
    "    ax.set_title('Média do fitness por iteração')\n",
    "    ax.set_xlabel('Quantidade de iterações')\n",
    "    ax.set_ylabel('Fitness médio')"
   ]
  },
  {
   "cell_type": "code",
   "execution_count": 5,
   "metadata": {},
   "outputs": [],
   "source": [
    "def generateLinearPlot(df):\n",
    "    plt.figure(figsize=(15,4))\n",
    "    ax = sns.lineplot(data= df, x='iteracao', y = 'meanFitness')\n",
    "    ax.set_title('Média do fitness por iteração')\n",
    "    ax.set_xlabel('Quantidade de iterações')\n",
    "    ax.set_ylabel('Fitness médio')"
   ]
  },
  {
   "cell_type": "code",
   "execution_count": 6,
   "metadata": {},
   "outputs": [],
   "source": [
    "def binaryToDecimal(binary): \n",
    "    binary1 = binary\n",
    "    decimal, i, n = 0, 0, 0\n",
    "    while(binary != 0): \n",
    "        dec = binary % 10\n",
    "        decimal = decimal + dec * pow(2, i) \n",
    "        binary = binary//10\n",
    "        i += 1\n",
    "    return decimal"
   ]
  },
  {
   "cell_type": "code",
   "execution_count": 7,
   "metadata": {},
   "outputs": [],
   "source": [
    "def sortPopulation(population):\n",
    "    # Ordena uma população pelo seu valor de fitness\n",
    "    population.sort(key=lambda x:x['fitnessValue'])\n",
    "    return population"
   ]
  },
  {
   "cell_type": "code",
   "execution_count": 8,
   "metadata": {},
   "outputs": [],
   "source": [
    "def printChess(individual):\n",
    "    aux = []\n",
    "    for queen in individual['individual']:\n",
    "        aux.append(binaryToDecimal(int(queen)))\n",
    "    for x in range(0,8):\n",
    "        for y in range(0,8):\n",
    "            if y == aux[x]:\n",
    "                print('1', end=' ')\n",
    "            else:\n",
    "                print('0', end = ' ')\n",
    "        print('\\n')"
   ]
  },
  {
   "cell_type": "markdown",
   "metadata": {},
   "source": [
    "### Calcular fitness médio"
   ]
  },
  {
   "cell_type": "code",
   "execution_count": 9,
   "metadata": {},
   "outputs": [],
   "source": [
    "def meanFitness(population):\n",
    "    aux = 0\n",
    "    for individual in population:\n",
    "        aux += individual['fitnessValue']\n",
    "    return aux/populationSize"
   ]
  },
  {
   "cell_type": "markdown",
   "metadata": {},
   "source": [
    "### Criar população"
   ]
  },
  {
   "cell_type": "code",
   "execution_count": 10,
   "metadata": {},
   "outputs": [],
   "source": [
    "def generateChess():\n",
    "    aux = []\n",
    "    while(len(aux) != 8):\n",
    "        value = generateQueen()\n",
    "        if not value in aux:\n",
    "            aux.append(value)\n",
    "    return aux"
   ]
  },
  {
   "cell_type": "code",
   "execution_count": 11,
   "metadata": {},
   "outputs": [],
   "source": [
    "def generateQueen():\n",
    "    queenPosition = ''\n",
    "    for bitPosition in range(1,4):\n",
    "        queenPosition += str(randint(0,1))\n",
    "    return queenPosition"
   ]
  },
  {
   "cell_type": "code",
   "execution_count": 12,
   "metadata": {},
   "outputs": [],
   "source": [
    "def generatePopulation():\n",
    "    aux = []\n",
    "    for populationMember in range(populationSize):\n",
    "        aux.append({'individual': generateChess() , 'fitnessValue': -1 }) \n",
    "        #Cria um objeto composto do individuo e seu valor de fitness    \n",
    "    return aux"
   ]
  },
  {
   "cell_type": "markdown",
   "metadata": {},
   "source": [
    "### Quantidade de 'choques'"
   ]
  },
  {
   "cell_type": "code",
   "execution_count": 13,
   "metadata": {},
   "outputs": [],
   "source": [
    "# Se duas rainhas estiverem na mesma coluna ### OK\n",
    "def columnThreaten(individual):\n",
    "    threatenColumn = 0\n",
    "    for column in range(0,8):\n",
    "        binaryColumn = np.binary_repr(column, width=3)\n",
    "        if individual.count(binaryColumn) >= 2:\n",
    "            threatenColumn += 1\n",
    "    return threatenColumn"
   ]
  },
  {
   "cell_type": "code",
   "execution_count": 14,
   "metadata": {},
   "outputs": [],
   "source": [
    "# Se duas rainhas estiverem na mesma diagonal\n",
    "def diagonalThreaten(individual):\n",
    "    deltaRow = 0\n",
    "    deltaCol = 0\n",
    "    threatenDiagonal = 0\n",
    "    for x in range(0,8):\n",
    "        for y in range(0,8):\n",
    "            if x != y:\n",
    "                deltaRow = abs(x-y)\n",
    "                deltaCol = abs(binaryToDecimal(int(individual[x])) - binaryToDecimal(int(individual[y])))\n",
    "                if (deltaRow == deltaCol):\n",
    "                    threatenDiagonal += 1\n",
    "    return threatenDiagonal/4"
   ]
  },
  {
   "cell_type": "markdown",
   "metadata": {},
   "source": [
    "### Calculo do fitness"
   ]
  },
  {
   "cell_type": "code",
   "execution_count": 15,
   "metadata": {},
   "outputs": [],
   "source": [
    "def fitnessIndividual(individual):\n",
    "    value = 1 / (1 + (columnThreaten(individual) + diagonalThreaten(individual)))\n",
    "    return value"
   ]
  },
  {
   "cell_type": "code",
   "execution_count": 16,
   "metadata": {},
   "outputs": [],
   "source": [
    "def fitness(population):\n",
    "    fitnessValue = []\n",
    "    for individual in population:\n",
    "        individual['fitnessValue'] = fitnessIndividual(individual['individual'])"
   ]
  },
  {
   "cell_type": "markdown",
   "metadata": {},
   "source": [
    "#### O valor do fitness será dado pela função 1/1+qntdChoques(tabuleiro)\n",
    "#### Queremos aumentar esse valor de fitness"
   ]
  },
  {
   "cell_type": "markdown",
   "metadata": {},
   "source": [
    "### Mutação"
   ]
  },
  {
   "cell_type": "markdown",
   "metadata": {},
   "source": [
    "Escolher um individuo(tabuleiro) aleatório e trocar a posição de uma rainha"
   ]
  },
  {
   "cell_type": "code",
   "execution_count": 17,
   "metadata": {},
   "outputs": [],
   "source": [
    "def mutationSwap(individual):\n",
    "    posicaoRainhaEscolhida = randint(0,7) ### A rainha que tera seu valor alterado\n",
    "    valorNovaRainha = generateQueen() ##\n",
    "    posicaoRainha2 = individual['individual'].index(valorNovaRainha)\n",
    "    #### Trocar os valores da posicao da rainhaEscolhida com a Rainha 2\n",
    "    aux = individual['individual'][posicaoRainhaEscolhida]\n",
    "    individual['individual'][posicaoRainhaEscolhida] = individual['individual'][posicaoRainha2]\n",
    "    individual['individual'][posicaoRainha2] = aux\n",
    "    return individual"
   ]
  },
  {
   "cell_type": "markdown",
   "metadata": {},
   "source": [
    "### Seleção de pais"
   ]
  },
  {
   "cell_type": "code",
   "execution_count": 18,
   "metadata": {},
   "outputs": [],
   "source": [
    "def chooseRandomIndividuals(population):\n",
    "    aux = []\n",
    "    for i in range(0,5):\n",
    "        value = randint(0,populationSize-1)\n",
    "        aux.append(population[value])\n",
    "    return aux"
   ]
  },
  {
   "cell_type": "code",
   "execution_count": 19,
   "metadata": {},
   "outputs": [],
   "source": [
    "def selectParents(population):\n",
    "    parents = chooseRandomIndividuals(population) #Array de objetos onde os elementos são os individuos e o valor do fitness\n",
    "    parents = sortPopulation(parents) # Ordenando os pais de acordo com o fitnessValue\n",
    "    return (parents[-2], parents[-1]) #Retornando os dois ultimos elementos da lista que são os com melhores fitness"
   ]
  },
  {
   "cell_type": "markdown",
   "metadata": {},
   "source": [
    "### Seleção dos sobreviventes"
   ]
  },
  {
   "cell_type": "markdown",
   "metadata": {},
   "source": [
    "#### Remover os dois menos adaptados da população"
   ]
  },
  {
   "cell_type": "code",
   "execution_count": 20,
   "metadata": {},
   "outputs": [],
   "source": [
    "def replaceElements(population, filho1, filho2):\n",
    "    aux = sortPopulation(population)\n",
    "    aux[0] = filho1\n",
    "    aux[1] = filho2\n",
    "    return aux"
   ]
  },
  {
   "cell_type": "markdown",
   "metadata": {},
   "source": [
    "### Recombinação: “cut-and-crossfill”"
   ]
  },
  {
   "cell_type": "code",
   "execution_count": 21,
   "metadata": {},
   "outputs": [],
   "source": [
    "def copyFirstParent(parent, point):\n",
    "    son = []\n",
    "    for x in range(0,point+1): # Se o primeiro pai for escolhido o filho recebera primeiro os genes dele\n",
    "            son.append(parent['individual'][x])\n",
    "    return son"
   ]
  },
  {
   "cell_type": "code",
   "execution_count": 22,
   "metadata": {},
   "outputs": [],
   "source": [
    "def generateParentTwoAux(parent, point):\n",
    "    aux = []\n",
    "    for x in range(point+1, 8):\n",
    "        aux.append(parent['individual'][x])\n",
    "    for x in range(0, point+1):\n",
    "        aux.append(parent['individual'][x])\n",
    "    return aux"
   ]
  },
  {
   "cell_type": "code",
   "execution_count": 23,
   "metadata": {},
   "outputs": [],
   "source": [
    "def insertValuesSecondParent(parent, point, son):\n",
    "    parentCircular = generateParentTwoAux(parent, point)\n",
    "    while(len(son) != 8):\n",
    "            for x in parentCircular:\n",
    "                if not x in son: # Se o valor do 2 pai ainda não existe no filho insere\n",
    "                    son.append(x)\n",
    "    return {'individual': son, 'fitnessValue': -1}\n",
    "        "
   ]
  },
  {
   "cell_type": "code",
   "execution_count": 24,
   "metadata": {},
   "outputs": [],
   "source": [
    "def recombination(parent_one, parent_two):\n",
    "    son = []\n",
    "    point = randint(0,7) # Escolher uma posição para executar\n",
    "    chooseFirst = randint(0,1)\n",
    "    if (chooseFirst == 0):\n",
    "        son = copyFirstParent(parent_one, point) # Se o primeiro pai for escolhido o filho recebera primeiro os genes dele\n",
    "        return insertValuesSecondParent(parent_two, point, son)\n",
    "    else:\n",
    "        son = copyFirstParent(parent_two, point) # Se o segundo pai for escolhido o filho recebera primeiro os genes dele\n",
    "        return insertValuesSecondParent(parent_one, point, son)"
   ]
  },
  {
   "cell_type": "markdown",
   "metadata": {},
   "source": [
    "### Condição de parada"
   ]
  },
  {
   "cell_type": "code",
   "execution_count": 25,
   "metadata": {},
   "outputs": [],
   "source": [
    "def lookingForFitnessMax(population):\n",
    "    for individual in population:\n",
    "        if individual['fitnessValue'] >= 1:\n",
    "            return True"
   ]
  },
  {
   "cell_type": "code",
   "execution_count": 26,
   "metadata": {},
   "outputs": [],
   "source": [
    "def maxIndividual(population):\n",
    "    for individual in population:\n",
    "        if individual['fitnessValue'] >= 1:\n",
    "            return individual"
   ]
  },
  {
   "cell_type": "markdown",
   "metadata": {},
   "source": [
    "## Gerar Solução"
   ]
  },
  {
   "cell_type": "code",
   "execution_count": 27,
   "metadata": {},
   "outputs": [],
   "source": [
    "def generateSolution():\n",
    "    iteracaoMeanFitness = []\n",
    "    population = generatePopulation()\n",
    "    fitness(population)\n",
    "    i = 0\n",
    "    while (i < 1000) :\n",
    "        iteracaoMeanFitness.append({'iteracao': i, 'meanFitness': meanFitness(population)})\n",
    "        if lookingForFitnessMax(population) == True:\n",
    "            break\n",
    "        pai1, pai2 = selectParents(population)\n",
    "        filho1 = recombination(pai1,pai2)\n",
    "        filho2 = recombination(pai1,pai2)\n",
    "        filho1_mutacao = mutationSwap(filho2)\n",
    "        filho2_mutacao = mutationSwap(filho2)\n",
    "        fitness(population)\n",
    "        population = replaceElements(population, filho1_mutacao, filho2_mutacao)\n",
    "        i += 1\n",
    "    return maxIndividual(population), iteracaoMeanFitness"
   ]
  },
  {
   "cell_type": "markdown",
   "metadata": {},
   "source": [
    "# Parte I"
   ]
  },
  {
   "cell_type": "markdown",
   "metadata": {},
   "source": [
    "Na parte 1 do projeto foi solicitado que desenvolvessemos uma solução usando algoritmos genéticos para o problema das 8 rainhas. Com as seguintes especificações iniciais:\n",
    "   * Representação (genótipo): string de bits \n",
    "   * Recombinação: “cut-and-crossfill” crossover \n",
    "   * Probabilidade de Recombinação: 90%\n",
    "   * Mutação: troca de genes #\n",
    "   * Probabilidade de Mutação: 40%\n",
    "   * Seleção de pais: ranking - Melhor de 2 de 5 escolhidos aleatoriamente #\n",
    "   *  Seleção de sobreviventes: substituição do pior\n",
    "   *  Tamanho da população: 100 \n",
    "   *  Número de filhos gerados: 2\n",
    "   *  Inicialização: aleatória \n",
    "   *  Condição de término: Encontrar a solução, ou 10.000 avaliações de fitness \n",
    "   * Fitness "
   ]
  },
  {
   "cell_type": "markdown",
   "metadata": {},
   "source": [
    "### Avaliação"
   ]
  },
  {
   "cell_type": "code",
   "execution_count": 28,
   "metadata": {},
   "outputs": [
    {
     "name": "stdout",
     "output_type": "stream",
     "text": [
      "Executando:  0 1 2 3 4 5 6 7 8 9 10 11 12 13 14 15 16 17 18 19 20 21 22 23 24 25 26 27 28 29 "
     ]
    }
   ],
   "source": [
    "df = run30()"
   ]
  },
  {
   "cell_type": "markdown",
   "metadata": {},
   "source": [
    "#### Analisando as iterações"
   ]
  },
  {
   "cell_type": "code",
   "execution_count": 29,
   "metadata": {},
   "outputs": [
    {
     "data": {
      "text/plain": [
       "count     30.000000\n",
       "mean     200.133333\n",
       "std      184.313775\n",
       "min        0.000000\n",
       "25%       51.500000\n",
       "50%      169.500000\n",
       "75%      290.000000\n",
       "max      707.000000\n",
       "Name: iteracao, dtype: float64"
      ]
     },
     "execution_count": 29,
     "metadata": {},
     "output_type": "execute_result"
    }
   ],
   "source": [
    "df.loc[:,'iteracao'].describe()"
   ]
  },
  {
   "cell_type": "markdown",
   "metadata": {},
   "source": [
    "#### Analisando o fitness médio por iteração"
   ]
  },
  {
   "cell_type": "code",
   "execution_count": 30,
   "metadata": {},
   "outputs": [
    {
     "data": {
      "text/plain": [
       "count    30.000000\n",
       "mean      0.455540\n",
       "std       0.084315\n",
       "min       0.309342\n",
       "25%       0.391583\n",
       "50%       0.460333\n",
       "75%       0.505250\n",
       "max       0.610000\n",
       "Name: meanFitness, dtype: float64"
      ]
     },
     "execution_count": 30,
     "metadata": {},
     "output_type": "execute_result"
    }
   ],
   "source": [
    "df.loc[:,'meanFitness'].describe()"
   ]
  },
  {
   "cell_type": "code",
   "execution_count": 31,
   "metadata": {},
   "outputs": [
    {
     "data": {
      "image/png": "[encoded data removed]",
      "text/plain": [
       "<Figure size 1080x288 with 1 Axes>"
      ]
     },
     "metadata": {
      "needs_background": "light"
     },
     "output_type": "display_data"
    }
   ],
   "source": [
    "generateLinearPlot(df)"
   ]
  },
  {
   "cell_type": "code",
   "execution_count": 32,
   "metadata": {
    "scrolled": true
   },
   "outputs": [
    {
     "data": {
      "image/png": "[encoded data removed]",
      "text/plain": [
       "<Figure size 1080x288 with 1 Axes>"
      ]
     },
     "metadata": {
      "needs_background": "light"
     },
     "output_type": "display_data"
    }
   ],
   "source": [
    "generateScatterPlot(df)"
   ]
  },
  {
   "cell_type": "markdown",
   "metadata": {},
   "source": [
    "### Quantas iterações seriam necessarias para todos terem fitness = 1 ?"
   ]
  },
  {
   "cell_type": "markdown",
   "metadata": {},
   "source": [
    "# Parte II"
   ]
  },
  {
   "cell_type": "markdown",
   "metadata": {},
   "source": [
    "### Alterações"
   ]
  },
  {
   "cell_type": "markdown",
   "metadata": {},
   "source": [
    "* Tamanho da população\n",
    "    * 50 #OK\n",
    "    * 150 #OK\n",
    "* Mutação\n",
    "    * Mutação por inversão #OK\n",
    "* Substituir os pais por geração\n",
    "* Seleção de pais - implementar roleta\n",
    "* Recombinação - slide 6\n",
    "    * N-points\n",
    "    * Cruzamento uniforme"
   ]
  },
  {
   "cell_type": "markdown",
   "metadata": {},
   "source": [
    "# Alterando o tamanho da população"
   ]
  },
  {
   "cell_type": "markdown",
   "metadata": {},
   "source": [
    "Primeiro: Diminuir o tamanho da população em 50% e avaliar o que ocorrerá."
   ]
  },
  {
   "cell_type": "markdown",
   "metadata": {},
   "source": [
    "Segundo: Aumentar o tamanho da população em 50%"
   ]
  },
  {
   "cell_type": "markdown",
   "metadata": {},
   "source": [
    "### Tamanho da população = 50"
   ]
  },
  {
   "cell_type": "code",
   "execution_count": 33,
   "metadata": {},
   "outputs": [],
   "source": [
    "populationSize = 50"
   ]
  },
  {
   "cell_type": "code",
   "execution_count": 34,
   "metadata": {},
   "outputs": [
    {
     "name": "stdout",
     "output_type": "stream",
     "text": [
      "Executando:  0 1 2 3 4 5 6 7 8 9 10 11 12 13 14 15 16 17 18 19 20 21 22 23 24 25 26 27 28 29 "
     ]
    }
   ],
   "source": [
    "df_population_size_50 = run30()"
   ]
  },
  {
   "cell_type": "code",
   "execution_count": 35,
   "metadata": {
    "scrolled": true
   },
   "outputs": [
    {
     "data": {
      "text/plain": [
       "count     30.00000\n",
       "mean     180.90000\n",
       "std      179.82316\n",
       "min        0.00000\n",
       "25%       58.50000\n",
       "50%      106.50000\n",
       "75%      234.25000\n",
       "max      671.00000\n",
       "Name: iteracao, dtype: float64"
      ]
     },
     "execution_count": 35,
     "metadata": {},
     "output_type": "execute_result"
    }
   ],
   "source": [
    "df_population_size_50.loc[:,'iteracao'].describe()"
   ]
  },
  {
   "cell_type": "markdown",
   "metadata": {},
   "source": [
    "#### Quantas soluções foram encontradas na iteração de número 0"
   ]
  },
  {
   "cell_type": "code",
   "execution_count": 36,
   "metadata": {},
   "outputs": [
    {
     "data": {
      "text/html": [
       "<div>\n",
       "<style scoped>\n",
       "    .dataframe tbody tr th:only-of-type {\n",
       "        vertical-align: middle;\n",
       "    }\n",
       "\n",
       "    .dataframe tbody tr th {\n",
       "        vertical-align: top;\n",
       "    }\n",
       "\n",
       "    .dataframe thead th {\n",
       "        text-align: right;\n",
       "    }\n",
       "</style>\n",
       "<table border=\"1\" class=\"dataframe\">\n",
       "  <thead>\n",
       "    <tr style=\"text-align: right;\">\n",
       "      <th></th>\n",
       "      <th>iteracao</th>\n",
       "      <th>meanFitness</th>\n",
       "    </tr>\n",
       "  </thead>\n",
       "  <tbody>\n",
       "    <tr>\n",
       "      <th>28</th>\n",
       "      <td>0</td>\n",
       "      <td>0.328257</td>\n",
       "    </tr>\n",
       "  </tbody>\n",
       "</table>\n",
       "</div>"
      ],
      "text/plain": [
       "    iteracao  meanFitness\n",
       "28         0     0.328257"
      ]
     },
     "execution_count": 36,
     "metadata": {},
     "output_type": "execute_result"
    }
   ],
   "source": [
    "df_population_size_50.loc[df_population_size_50['iteracao'] == 0]"
   ]
  },
  {
   "cell_type": "code",
   "execution_count": 37,
   "metadata": {},
   "outputs": [
    {
     "data": {
      "text/plain": [
       "count    30.000000\n",
       "mean      0.482796\n",
       "std       0.090065\n",
       "min       0.324190\n",
       "25%       0.416667\n",
       "50%       0.477667\n",
       "75%       0.563333\n",
       "max       0.613333\n",
       "Name: meanFitness, dtype: float64"
      ]
     },
     "execution_count": 37,
     "metadata": {},
     "output_type": "execute_result"
    }
   ],
   "source": [
    "df_population_size_50.loc[:,'meanFitness'].describe()"
   ]
  },
  {
   "cell_type": "code",
   "execution_count": 38,
   "metadata": {},
   "outputs": [
    {
     "data": {
      "image/png": "[encoded data removed]",
      "text/plain": [
       "<Figure size 1080x288 with 1 Axes>"
      ]
     },
     "metadata": {
      "needs_background": "light"
     },
     "output_type": "display_data"
    }
   ],
   "source": [
    "generateLinearPlot(df_population_size_50)"
   ]
  },
  {
   "cell_type": "code",
   "execution_count": 39,
   "metadata": {},
   "outputs": [
    {
     "data": {
      "image/png": "[encoded data removed]",
      "text/plain": [
       "<Figure size 1080x288 with 1 Axes>"
      ]
     },
     "metadata": {
      "needs_background": "light"
     },
     "output_type": "display_data"
    }
   ],
   "source": [
    "generateScatterPlot(df_population_size_50)"
   ]
  },
  {
   "cell_type": "markdown",
   "metadata": {},
   "source": [
    "### Tamanho da população = 150"
   ]
  },
  {
   "cell_type": "code",
   "execution_count": 40,
   "metadata": {},
   "outputs": [],
   "source": [
    "populationSize = 50"
   ]
  },
  {
   "cell_type": "code",
   "execution_count": 41,
   "metadata": {},
   "outputs": [
    {
     "name": "stdout",
     "output_type": "stream",
     "text": [
      "Executando:  0 1 2 3 4 5 6 7 8 9 10 11 12 13 14 15 16 17 18 19 20 21 22 23 24 25 26 27 28 29 "
     ]
    }
   ],
   "source": [
    "df_population_size_150 = run30()"
   ]
  },
  {
   "cell_type": "code",
   "execution_count": 42,
   "metadata": {},
   "outputs": [
    {
     "data": {
      "text/plain": [
       "count     30.000000\n",
       "mean     241.966667\n",
       "std      174.948758\n",
       "min        0.000000\n",
       "25%      119.250000\n",
       "50%      216.000000\n",
       "75%      368.250000\n",
       "max      575.000000\n",
       "Name: iteracao, dtype: float64"
      ]
     },
     "execution_count": 42,
     "metadata": {},
     "output_type": "execute_result"
    }
   ],
   "source": [
    "df_population_size_150.loc[:,'iteracao'].describe()"
   ]
  },
  {
   "cell_type": "code",
   "execution_count": 43,
   "metadata": {},
   "outputs": [
    {
     "data": {
      "text/plain": [
       "count    30.000000\n",
       "mean      0.518030\n",
       "std       0.080919\n",
       "min       0.327889\n",
       "25%       0.470333\n",
       "50%       0.528333\n",
       "75%       0.600833\n",
       "max       0.613333\n",
       "Name: meanFitness, dtype: float64"
      ]
     },
     "execution_count": 43,
     "metadata": {},
     "output_type": "execute_result"
    }
   ],
   "source": [
    "df_population_size_150.loc[:,'meanFitness'].describe()"
   ]
  },
  {
   "cell_type": "code",
   "execution_count": 44,
   "metadata": {},
   "outputs": [
    {
     "data": {
      "image/png": "[encoded data removed]",
      "text/plain": [
       "<Figure size 1080x288 with 1 Axes>"
      ]
     },
     "metadata": {
      "needs_background": "light"
     },
     "output_type": "display_data"
    }
   ],
   "source": [
    "generateLinearPlot(df_population_size_150)"
   ]
  },
  {
   "cell_type": "code",
   "execution_count": 45,
   "metadata": {
    "scrolled": true
   },
   "outputs": [
    {
     "data": {
      "image/png": "[encoded data removed]",
      "text/plain": [
       "<Figure size 1080x288 with 1 Axes>"
      ]
     },
     "metadata": {
      "needs_background": "light"
     },
     "output_type": "display_data"
    }
   ],
   "source": [
    "generateScatterPlot(df_population_size_50)"
   ]
  },
  {
   "cell_type": "markdown",
   "metadata": {},
   "source": [
    "# Alterando a mutação"
   ]
  },
  {
   "cell_type": "markdown",
   "metadata": {},
   "source": [
    "### Mutação por inversão"
   ]
  },
  {
   "cell_type": "markdown",
   "metadata": {},
   "source": [
    "Escolhe-se uma sequencia de genes de forma aleatória e inverte a ordem da substring entre estes genes"
   ]
  },
  {
   "cell_type": "code",
   "execution_count": 186,
   "metadata": {},
   "outputs": [],
   "source": [
    "def mutacao_inversao(individuo):\n",
    "    sequencia = []\n",
    "    aux = individuo\n",
    "    from itertools import cycle\n",
    "    tamanho = randint(2,4)\n",
    "    comeco = randint(0,4)\n",
    "    #print('Tamanho e comeco: ', tamanho, comeco, end = ' ')\n",
    "    for x in range(comeco,tamanho+comeco):\n",
    "        sequencia.append(individuo['individual'][x])\n",
    "    sequencia = sequencia[::-1]\n",
    "    i = 0\n",
    "    for y in range(comeco,tamanho+comeco):\n",
    "        aux['individual'][y] = sequencia[i]\n",
    "        i += 1\n",
    "    return aux"
   ]
  },
  {
   "cell_type": "code",
   "execution_count": 194,
   "metadata": {},
   "outputs": [],
   "source": [
    "def generateSolutionMutacaoInversa():\n",
    "    populationSize = 100\n",
    "    iteracaoMeanFitness = []\n",
    "    population = generatePopulation()\n",
    "    fitness(population)\n",
    "    i = 0\n",
    "    while (i < 10000) :\n",
    "        iteracaoMeanFitness.append({'iteracao': i, 'meanFitness': meanFitness(population)})\n",
    "        if lookingForFitnessMax(population) == True:\n",
    "            break\n",
    "        pai1, pai2 = selectParents(population)\n",
    "        filho1 = recombination(pai1,pai2)\n",
    "        filho2 = recombination(pai1,pai2)\n",
    "        filho1_mutacao = mutacao_inversao(filho2)\n",
    "        filho2_mutacao = mutacao_inversao(filho2)\n",
    "        fitness(population)\n",
    "        population = replaceElements(population, filho1_mutacao, filho2_mutacao)\n",
    "        i += 1\n",
    "    return maxIndividual(population), iteracaoMeanFitness"
   ]
  },
  {
   "cell_type": "code",
   "execution_count": 195,
   "metadata": {},
   "outputs": [],
   "source": [
    "def run30MutacaoInversa():\n",
    "    aux = []\n",
    "    print('Executando: ', end= ' ')\n",
    "    for x in range(0,30):\n",
    "        print(x, end=' ')\n",
    "        chess, results = generateSolutionMutacaoInversa()\n",
    "        aux.append(results[-1])\n",
    "    return pd.DataFrame(aux)"
   ]
  },
  {
   "cell_type": "code",
   "execution_count": 196,
   "metadata": {},
   "outputs": [
    {
     "name": "stdout",
     "output_type": "stream",
     "text": [
      "Executando:  0 1 2 3 4 5 6 7 8 9 10 11 12 13 14 15 16 17 18 19 20 21 22 23 24 25 26 27 28 29 "
     ]
    }
   ],
   "source": [
    "df_mutacao_inversa = run30MutacaoInversa()"
   ]
  },
  {
   "cell_type": "code",
   "execution_count": 197,
   "metadata": {},
   "outputs": [
    {
     "data": {
      "text/plain": [
       "count     30.000000\n",
       "mean     200.133333\n",
       "std      184.313775\n",
       "min        0.000000\n",
       "25%       51.500000\n",
       "50%      169.500000\n",
       "75%      290.000000\n",
       "max      707.000000\n",
       "Name: iteracao, dtype: float64"
      ]
     },
     "execution_count": 197,
     "metadata": {},
     "output_type": "execute_result"
    }
   ],
   "source": [
    "df.loc[:,'iteracao'].describe()"
   ]
  },
  {
   "cell_type": "code",
   "execution_count": 198,
   "metadata": {
    "scrolled": true
   },
   "outputs": [
    {
     "data": {
      "text/plain": [
       "count    30.000000\n",
       "mean      0.455540\n",
       "std       0.084315\n",
       "min       0.309342\n",
       "25%       0.391583\n",
       "50%       0.460333\n",
       "75%       0.505250\n",
       "max       0.610000\n",
       "Name: meanFitness, dtype: float64"
      ]
     },
     "execution_count": 198,
     "metadata": {},
     "output_type": "execute_result"
    }
   ],
   "source": [
    "df.loc[:,'meanFitness'].describe()"
   ]
  },
  {
   "cell_type": "code",
   "execution_count": 199,
   "metadata": {},
   "outputs": [
    {
     "data": {
      "image/png": "[encoded data removed]",
      "text/plain": [
       "<Figure size 1080x288 with 1 Axes>"
      ]
     },
     "metadata": {
      "needs_background": "light"
     },
     "output_type": "display_data"
    }
   ],
   "source": [
    "generateLinearPlot(df)"
   ]
  },
  {
   "cell_type": "code",
   "execution_count": 200,
   "metadata": {},
   "outputs": [
    {
     "data": {
      "image/png": "[encoded data removed]",
      "text/plain": [
       "<Figure size 1080x288 with 1 Axes>"
      ]
     },
     "metadata": {
      "needs_background": "light"
     },
     "output_type": "display_data"
    }
   ],
   "source": [
    "generateScatterPlot(df)"
   ]
  },
  {
   "cell_type": "markdown",
   "metadata": {},
   "source": [
    "# Alterando o tipo da recombinação"
   ]
  },
  {
   "cell_type": "markdown",
   "metadata": {},
   "source": [
    "Na primeira parte foi usada a recombinação “cut-and-crossfill” usarei duas novas abordagens:\n",
    "* Cruzamento uniforme\n",
    "* N-points"
   ]
  },
  {
   "cell_type": "markdown",
   "metadata": {},
   "source": [
    "### Cruzamento uniforme"
   ]
  },
  {
   "cell_type": "code",
   "execution_count": 46,
   "metadata": {},
   "outputs": [],
   "source": [
    "def cruzamentoUniforme(pai1, pai2):\n",
    "    filhos = []\n",
    "    escolha = randint(0,1)\n",
    "    if escolha == 1:\n",
    "        for x in range(0,8):\n",
    "            print(x)\n",
    "    else:\n",
    "        for x in range(0,8):\n",
    "            print(x)\n",
    "    return escolha"
   ]
  },
  {
   "cell_type": "code",
   "execution_count": 47,
   "metadata": {},
   "outputs": [
    {
     "name": "stdout",
     "output_type": "stream",
     "text": [
      "0\n",
      "1\n",
      "2\n",
      "3\n",
      "4\n",
      "5\n",
      "6\n",
      "7\n"
     ]
    },
    {
     "data": {
      "text/plain": [
       "0"
      ]
     },
     "execution_count": 47,
     "metadata": {},
     "output_type": "execute_result"
    }
   ],
   "source": [
    "cruzamentoUniforme(1,2)"
   ]
  },
  {
   "cell_type": "code",
   "execution_count": null,
   "metadata": {},
   "outputs": [],
   "source": []
  }
 ],
 "metadata": {
  "kernelspec": {
   "display_name": "Python 3",
   "language": "python",
   "name": "python3"
  },
  "language_info": {
   "codemirror_mode": {
    "name": "ipython",
    "version": 3
   },
   "file_extension": ".py",
   "mimetype": "text/x-python",
   "name": "python",
   "nbconvert_exporter": "python",
   "pygments_lexer": "ipython3",
   "version": "3.8.2"
  }
 },
 "nbformat": 4,
 "nbformat_minor": 4
}
