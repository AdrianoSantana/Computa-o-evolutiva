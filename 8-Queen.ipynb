{
 "cells": [
  {
   "cell_type": "markdown",
   "metadata": {},
   "source": [
    "Primeira parte:\n",
    "    • Representação (genótipo): string de bits #OK\n",
    "    • Recombinação: “cut-and-crossfill” crossover #OK\n",
    "    • Probabilidade de Recombinação: 90%\n",
    "    • Mutação: troca de genes #OK\n",
    "    • Probabilidade de Mutação: 40%\n",
    "    • Seleção de pais: ranking - Melhor de 2 de 5 escolhidos aleatoriamente #OK\n",
    "    • Seleção de sobreviventes: substituição do pior\n",
    "    • Tamanho da população: 100 #OK\n",
    "    • Número de filhos gerados: 2\n",
    "    • Inicialização: aleatória #OK\n",
    "    • Condição de término: Encontrar a solução, ou 10.000 avaliações de fitness #OK\n",
    "    • Fitness #OK"
   ]
  },
  {
   "cell_type": "code",
   "execution_count": 129,
   "metadata": {},
   "outputs": [],
   "source": [
    "from random import randint\n",
    "import numpy as np"
   ]
  },
  {
   "cell_type": "code",
   "execution_count": 130,
   "metadata": {},
   "outputs": [],
   "source": [
    "populationSize = 100"
   ]
  },
  {
   "cell_type": "markdown",
   "metadata": {},
   "source": [
    "### Funções auxiliares"
   ]
  },
  {
   "cell_type": "code",
   "execution_count": 131,
   "metadata": {},
   "outputs": [],
   "source": [
    "def binaryToDecimal(binary): \n",
    "    binary1 = binary\n",
    "    decimal, i, n = 0, 0, 0\n",
    "    while(binary != 0): \n",
    "        dec = binary % 10\n",
    "        decimal = decimal + dec * pow(2, i) \n",
    "        binary = binary//10\n",
    "        i += 1\n",
    "    return decimal"
   ]
  },
  {
   "cell_type": "code",
   "execution_count": 132,
   "metadata": {},
   "outputs": [],
   "source": [
    "def sortPopulation(population):\n",
    "    # Ordena uma população pelo seu valor de fitness\n",
    "    population.sort(key=lambda x:x['fitnessValue'])\n",
    "    return population"
   ]
  },
  {
   "cell_type": "markdown",
   "metadata": {},
   "source": [
    "### Criar população"
   ]
  },
  {
   "cell_type": "code",
   "execution_count": 133,
   "metadata": {},
   "outputs": [],
   "source": [
    "def generateChess():\n",
    "    aux = []\n",
    "    while(len(aux) != 8):\n",
    "        value = generateQueen()\n",
    "        if not value in aux:\n",
    "            aux.append(value)\n",
    "    return aux"
   ]
  },
  {
   "cell_type": "code",
   "execution_count": 134,
   "metadata": {},
   "outputs": [],
   "source": [
    "def generateQueen():\n",
    "    queenPosition = ''\n",
    "    for bitPosition in range(1,4):\n",
    "        queenPosition += str(randint(0,1))\n",
    "    return queenPosition"
   ]
  },
  {
   "cell_type": "code",
   "execution_count": 135,
   "metadata": {},
   "outputs": [],
   "source": [
    "def generatePopulation():\n",
    "    aux = []\n",
    "    for populationMember in range(populationSize):\n",
    "        aux.append({'individual': generateChess() , 'fitnessValue': -1 }) \n",
    "        #Cria um objeto composto do individuo e seu valor de fitness    \n",
    "    return aux"
   ]
  },
  {
   "cell_type": "markdown",
   "metadata": {},
   "source": [
    "### Quantidade de 'choques'"
   ]
  },
  {
   "cell_type": "code",
   "execution_count": 136,
   "metadata": {},
   "outputs": [],
   "source": [
    "# Se duas rainhas estiverem na mesma coluna ### OK\n",
    "def columnThreaten(individual):\n",
    "    threatenColumn = 0\n",
    "    for column in range(0,8):\n",
    "        binaryColumn = np.binary_repr(column, width=3)\n",
    "        if individual.count(binaryColumn) >= 2:\n",
    "            threatenColumn += 1\n",
    "    return threatenColumn"
   ]
  },
  {
   "cell_type": "code",
   "execution_count": 137,
   "metadata": {},
   "outputs": [],
   "source": [
    "# Se duas rainhas estiverem na mesma diagonal\n",
    "def diagonalThreaten(individual):\n",
    "    deltaRow = 0\n",
    "    deltaCol = 0\n",
    "    threatenDiagonal = 0\n",
    "    for x in range(0,8):\n",
    "        for y in range(0,8):\n",
    "            if x != y:\n",
    "                deltaRow = abs(x-y)\n",
    "                deltaCol = abs(binaryToDecimal(int(individual[x])) - binaryToDecimal(int(individual[y])))\n",
    "                if (deltaRow == deltaCol):\n",
    "                    threatenDiagonal += 1\n",
    "    return threatenDiagonal/4"
   ]
  },
  {
   "cell_type": "markdown",
   "metadata": {},
   "source": [
    "### Calculo do fitness"
   ]
  },
  {
   "cell_type": "code",
   "execution_count": 138,
   "metadata": {},
   "outputs": [],
   "source": [
    "def fitnessIndividual(individual):\n",
    "    value = 1 / (1 + (columnThreaten(individual) + diagonalThreaten(individual)))\n",
    "    return value"
   ]
  },
  {
   "cell_type": "code",
   "execution_count": 139,
   "metadata": {},
   "outputs": [],
   "source": [
    "def fitness(population):\n",
    "    fitnessValue = []\n",
    "    for individual in population:\n",
    "        individual['fitnessValue'] = fitnessIndividual(individual['individual'])"
   ]
  },
  {
   "cell_type": "markdown",
   "metadata": {},
   "source": [
    "#### O valor do fitness será dado pela função 1/1+qntdChoques(tabuleiro)\n",
    "#### Queremos aumentar esse valor de fitness"
   ]
  },
  {
   "cell_type": "markdown",
   "metadata": {},
   "source": [
    "### Mutação"
   ]
  },
  {
   "cell_type": "markdown",
   "metadata": {},
   "source": [
    "Escolher um individuo(tabuleiro) aleatório e trocar a posição de uma rainha"
   ]
  },
  {
   "cell_type": "code",
   "execution_count": 140,
   "metadata": {},
   "outputs": [],
   "source": [
    "def mutationSwap(individual):\n",
    "    posicaoRainhaEscolhida = randint(0,7) ### A rainha que tera seu valor alterado\n",
    "    valorNovaRainha = generateQueen() ##\n",
    "    posicaoRainha2 = individual['individual'].index(valorNovaRainha)\n",
    "    #### Trocar os valores da posicao da rainhaEscolhida com a Rainha 2\n",
    "    aux = individual['individual'][posicaoRainhaEscolhida]\n",
    "    individual['individual'][posicaoRainhaEscolhida] = individual['individual'][posicaoRainha2]\n",
    "    individual['individual'][posicaoRainha2] = aux\n",
    "    return individual"
   ]
  },
  {
   "cell_type": "markdown",
   "metadata": {},
   "source": [
    "### Seleção de pais"
   ]
  },
  {
   "cell_type": "code",
   "execution_count": 141,
   "metadata": {},
   "outputs": [],
   "source": [
    "def chooseRandomIndividuals(population):\n",
    "    aux = []\n",
    "    for i in range(0,5):\n",
    "        value = randint(0,populationSize-1)\n",
    "        aux.append(population[value])\n",
    "    return aux"
   ]
  },
  {
   "cell_type": "code",
   "execution_count": 142,
   "metadata": {},
   "outputs": [],
   "source": [
    "def selectParents(population):\n",
    "    parents = chooseRandomIndividuals(population) #Array de objetos onde os elementos são os individuos e o valor do fitness\n",
    "    parents = sortPopulation(parents) # Ordenando os pais de acordo com o fitnessValue\n",
    "    return (parents[-2], parents[-1]) #Retornando os dois ultimos elementos da lista que são os com melhores fitness"
   ]
  },
  {
   "cell_type": "markdown",
   "metadata": {},
   "source": [
    "### Seleção dos sobreviventes"
   ]
  },
  {
   "cell_type": "markdown",
   "metadata": {},
   "source": [
    "#### Remover os dois menos adaptados da população"
   ]
  },
  {
   "cell_type": "code",
   "execution_count": 143,
   "metadata": {},
   "outputs": [],
   "source": [
    "def replaceElements(population, filho1, filho2):\n",
    "    aux = sortPopulation(population)\n",
    "    aux[0] = filho1\n",
    "    aux[1] = filho2\n",
    "    return aux"
   ]
  },
  {
   "cell_type": "markdown",
   "metadata": {},
   "source": [
    "### Recombinação: “cut-and-crossfill”"
   ]
  },
  {
   "cell_type": "code",
   "execution_count": 144,
   "metadata": {},
   "outputs": [],
   "source": [
    "def copyFirstParent(parent, point):\n",
    "    son = []\n",
    "    for x in range(0,point+1): # Se o primeiro pai for escolhido o filho recebera primeiro os genes dele\n",
    "            son.append(parent['individual'][x])\n",
    "    return son"
   ]
  },
  {
   "cell_type": "code",
   "execution_count": 145,
   "metadata": {},
   "outputs": [],
   "source": [
    "def generateParentTwoAux(parent, point):\n",
    "    aux = []\n",
    "    for x in range(point+1, 8):\n",
    "        aux.append(parent['individual'][x])\n",
    "    for x in range(0, point+1):\n",
    "        aux.append(parent['individual'][x])\n",
    "    return aux"
   ]
  },
  {
   "cell_type": "code",
   "execution_count": 146,
   "metadata": {},
   "outputs": [],
   "source": [
    "def insertValuesSecondParent(parent, point, son):\n",
    "    parentCircular = generateParentTwoAux(parent, point)\n",
    "    while(len(son) != 8):\n",
    "            for x in parentCircular:\n",
    "                if not x in son: # Se o valor do 2 pai ainda não existe no filho insere\n",
    "                    son.append(x)\n",
    "    return {'individual': son, 'fitnessValue': -1}\n",
    "        "
   ]
  },
  {
   "cell_type": "code",
   "execution_count": 147,
   "metadata": {},
   "outputs": [],
   "source": [
    "def recombination(parent_one, parent_two):\n",
    "    son = []\n",
    "    point = randint(0,7) # Escolher uma posição para executar\n",
    "    chooseFirst = randint(0,1)\n",
    "    if (chooseFirst == 0):\n",
    "        son = copyFirstParent(parent_one, point) # Se o primeiro pai for escolhido o filho recebera primeiro os genes dele\n",
    "        return insertValuesSecondParent(parent_two, point, son)\n",
    "    else:\n",
    "        son = copyFirstParent(parent_two, point) # Se o segundo pai for escolhido o filho recebera primeiro os genes dele\n",
    "        return insertValuesSecondParent(parent_one, point, son)"
   ]
  },
  {
   "cell_type": "code",
   "execution_count": 148,
   "metadata": {},
   "outputs": [],
   "source": [
    "def lookingForFitnessMax(population):\n",
    "    for individual in population:\n",
    "        if individual['fitnessValue'] >= 1:\n",
    "            return True"
   ]
  },
  {
   "cell_type": "code",
   "execution_count": 149,
   "metadata": {},
   "outputs": [],
   "source": [
    "def maxIndividual(population):\n",
    "    for individual in population:\n",
    "        if individual['fitnessValue'] >= 1:\n",
    "            return individual"
   ]
  },
  {
   "cell_type": "code",
   "execution_count": 156,
   "metadata": {},
   "outputs": [],
   "source": [
    "def principal():\n",
    "    population = generatePopulation()\n",
    "    fitness(population)\n",
    "    i = 0\n",
    "    while (i < 1000) :\n",
    "        print('iteracao: ', i)\n",
    "        if lookingForFitnessMax(population) == True:\n",
    "            break\n",
    "        pai1, pai2 = selectParents(population)\n",
    "        filho1 = recombination(pai1,pai2)\n",
    "        filho2 = recombination(pai1,pai2)\n",
    "        filho1_mutacao = mutationSwap(filho2)\n",
    "        filho2_mutacao = mutationSwap(filho2)\n",
    "        fitness(population)\n",
    "        population = replaceElements(population, filho1_mutacao, filho2_mutacao)\n",
    "        i += 1\n",
    "    return maxIndividual(population)"
   ]
  },
  {
   "cell_type": "code",
   "execution_count": 166,
   "metadata": {},
   "outputs": [
    {
     "name": "stdout",
     "output_type": "stream",
     "text": [
      "iteracao:  0\n",
      "iteracao:  1\n",
      "iteracao:  2\n",
      "iteracao:  3\n",
      "iteracao:  4\n",
      "iteracao:  5\n",
      "iteracao:  6\n",
      "iteracao:  7\n",
      "iteracao:  8\n",
      "iteracao:  9\n",
      "iteracao:  10\n",
      "iteracao:  11\n",
      "iteracao:  12\n",
      "iteracao:  13\n",
      "iteracao:  14\n",
      "iteracao:  15\n",
      "iteracao:  16\n",
      "iteracao:  17\n",
      "iteracao:  18\n",
      "iteracao:  19\n",
      "iteracao:  20\n",
      "iteracao:  21\n",
      "iteracao:  22\n",
      "iteracao:  23\n",
      "iteracao:  24\n",
      "iteracao:  25\n",
      "iteracao:  26\n",
      "iteracao:  27\n",
      "iteracao:  28\n",
      "iteracao:  29\n",
      "iteracao:  30\n",
      "iteracao:  31\n",
      "iteracao:  32\n",
      "iteracao:  33\n",
      "iteracao:  34\n",
      "iteracao:  35\n",
      "iteracao:  36\n",
      "iteracao:  37\n",
      "iteracao:  38\n",
      "iteracao:  39\n",
      "iteracao:  40\n",
      "iteracao:  41\n",
      "iteracao:  42\n",
      "iteracao:  43\n",
      "iteracao:  44\n",
      "iteracao:  45\n",
      "iteracao:  46\n",
      "iteracao:  47\n",
      "iteracao:  48\n",
      "iteracao:  49\n"
     ]
    },
    {
     "data": {
      "text/plain": [
       "{'individual': ['010', '101', '001', '100', '111', '000', '110', '011'],\n",
       " 'fitnessValue': 1.0}"
      ]
     },
     "execution_count": 166,
     "metadata": {},
     "output_type": "execute_result"
    }
   ],
   "source": [
    "principal()"
   ]
  },
  {
   "cell_type": "code",
   "execution_count": null,
   "metadata": {},
   "outputs": [],
   "source": []
  }
 ],
 "metadata": {
  "kernelspec": {
   "display_name": "Python 3",
   "language": "python",
   "name": "python3"
  },
  "language_info": {
   "codemirror_mode": {
    "name": "ipython",
    "version": 3
   },
   "file_extension": ".py",
   "mimetype": "text/x-python",
   "name": "python",
   "nbconvert_exporter": "python",
   "pygments_lexer": "ipython3",
   "version": "3.8.2"
  }
 },
 "nbformat": 4,
 "nbformat_minor": 4
}
