{
 "cells": [
  {
   "cell_type": "markdown",
   "metadata": {},
   "source": [
    "Primeira parte:\n",
    "    • Representação (genótipo): string de bits #OK\n",
    "    • Recombinação: “cut-and-crossfill” crossover\n",
    "    • Probabilidade de Recombinação: 90%\n",
    "    • Mutação: troca de genes #OK\n",
    "    • Probabilidade de Mutação: 40%\n",
    "    • Seleção de pais: ranking - Melhor de 2 de 5 escolhidos aleatoriamente #OK\n",
    "    • Seleção de sobreviventes: substituição do pior\n",
    "    • Tamanho da população: 100 #OK\n",
    "    • Número de filhos gerados: 2\n",
    "    • Inicialização: aleatória #OK\n",
    "    • Condição de término: Encontrar a solução, ou 10.000 avaliações de fitness\n",
    "    • Fitness #OK"
   ]
  },
  {
   "cell_type": "code",
   "execution_count": 182,
   "metadata": {},
   "outputs": [],
   "source": [
    "from random import randint\n",
    "import numpy as np"
   ]
  },
  {
   "cell_type": "code",
   "execution_count": 183,
   "metadata": {},
   "outputs": [],
   "source": [
    "populationSize = 100"
   ]
  },
  {
   "cell_type": "markdown",
   "metadata": {},
   "source": [
    "### Funções auxiliares"
   ]
  },
  {
   "cell_type": "code",
   "execution_count": 184,
   "metadata": {},
   "outputs": [],
   "source": [
    "def binaryToDecimal(binary): \n",
    "    binary1 = binary\n",
    "    decimal, i, n = 0, 0, 0\n",
    "    while(binary != 0): \n",
    "        dec = binary % 10\n",
    "        decimal = decimal + dec * pow(2, i) \n",
    "        binary = binary//10\n",
    "        i += 1\n",
    "    return decimal"
   ]
  },
  {
   "cell_type": "code",
   "execution_count": 206,
   "metadata": {},
   "outputs": [],
   "source": [
    "def sortPopulation(population):\n",
    "    # Ordena uma população pelo seu valor de fitness\n",
    "    population.sort(key=lambda x:x['fitnessValue'])\n",
    "    return population"
   ]
  },
  {
   "cell_type": "markdown",
   "metadata": {},
   "source": [
    "### Criar população"
   ]
  },
  {
   "cell_type": "code",
   "execution_count": 185,
   "metadata": {},
   "outputs": [],
   "source": [
    "def generateChess():\n",
    "    aux = []\n",
    "    for i in range(0,8):\n",
    "        aux.append(generateQueen())\n",
    "    return aux"
   ]
  },
  {
   "cell_type": "code",
   "execution_count": 186,
   "metadata": {},
   "outputs": [],
   "source": [
    "def generateQueen():\n",
    "    queenPosition = ''\n",
    "    for bitPosition in range(1,4):\n",
    "        queenPosition += str(randint(0,1))\n",
    "    return queenPosition"
   ]
  },
  {
   "cell_type": "code",
   "execution_count": 187,
   "metadata": {},
   "outputs": [],
   "source": [
    "def criarPopulacao():\n",
    "    aux = []\n",
    "    for populationMember in range(populationSize):\n",
    "        aux.append({'individual': generateChess() , 'fitnessValue': -1 }) \n",
    "        #Cria um objeto composto do individuo e seu valor de fitness    \n",
    "    return aux"
   ]
  },
  {
   "cell_type": "markdown",
   "metadata": {},
   "source": [
    "### Quantidade de 'choques'"
   ]
  },
  {
   "cell_type": "code",
   "execution_count": 188,
   "metadata": {},
   "outputs": [],
   "source": [
    "# Se duas rainhas estiverem na mesma coluna\n",
    "def columnThreaten(individual):\n",
    "    threatenColumn = 0\n",
    "    for column in range(0,8):\n",
    "        binaryColumn = np.binary_repr(column, width=3)\n",
    "        if individual.count(binaryColumn) >= 2:\n",
    "            threatenColumn += 1\n",
    "    return threatenColumn"
   ]
  },
  {
   "cell_type": "code",
   "execution_count": 189,
   "metadata": {},
   "outputs": [],
   "source": [
    "# Se duas rainhas estiverem na mesma diagonal\n",
    "def diagonalThreaten(individual):\n",
    "    deltaRow = 0\n",
    "    deltaCol = 0\n",
    "    threatenDiagonal = 0\n",
    "    for x in range(0,8):\n",
    "        for y in range(0,8):\n",
    "            if x != y:\n",
    "                deltaRow = abs(x-y)\n",
    "                deltaCol = abs(binaryToDecimal(int(individual[x])) - binaryToDecimal(int(individual[y])))\n",
    "                if (deltaRow == deltaCol):\n",
    "                    threatenDiagonal += 1\n",
    "    return threatenDiagonal/2"
   ]
  },
  {
   "cell_type": "markdown",
   "metadata": {},
   "source": [
    "### Calculo do fitness"
   ]
  },
  {
   "cell_type": "code",
   "execution_count": 190,
   "metadata": {},
   "outputs": [],
   "source": [
    "def fitnessIndividual(individual):\n",
    "    value = 1 / (1 +(columnThreaten(individual) + diagonalThreaten(individual)))\n",
    "    return value"
   ]
  },
  {
   "cell_type": "code",
   "execution_count": 191,
   "metadata": {},
   "outputs": [],
   "source": [
    "def fitness(population):\n",
    "    fitnessValue = []\n",
    "    for individual in population:\n",
    "        individual['fitnessValue'] = fitnessIndividual(individual['individual'])"
   ]
  },
  {
   "cell_type": "markdown",
   "metadata": {},
   "source": [
    "#### O valor do fitness será dado pela função 1/1+qntdChoques(tabuleiro)\n",
    "#### Queremos aumentar esse valor de fitness"
   ]
  },
  {
   "cell_type": "markdown",
   "metadata": {},
   "source": [
    "### Mutação"
   ]
  },
  {
   "cell_type": "markdown",
   "metadata": {},
   "source": [
    "Escolher um individuo(tabuleiro) aleatório e trocar a posição de uma rainha"
   ]
  },
  {
   "cell_type": "code",
   "execution_count": 192,
   "metadata": {},
   "outputs": [],
   "source": [
    "def mutationSwap(individual):\n",
    "    randomQueen = randint(0,8)\n",
    "    individual[randomQueen] = generateQueen()"
   ]
  },
  {
   "cell_type": "markdown",
   "metadata": {},
   "source": [
    "### Seleção de pais"
   ]
  },
  {
   "cell_type": "code",
   "execution_count": 193,
   "metadata": {},
   "outputs": [],
   "source": [
    "def chooseRandomIndividuals(population):\n",
    "    aux = []\n",
    "    for i in range(0,5):\n",
    "        value = randint(0,populationSize)\n",
    "        aux.append(population[value])\n",
    "    return aux"
   ]
  },
  {
   "cell_type": "code",
   "execution_count": 207,
   "metadata": {},
   "outputs": [],
   "source": [
    "def selectParents(population):\n",
    "    parents = chooseRandomIndividuals(population) #Array de objetos onde os elementos são os individuos e o valor do fitness\n",
    "    parents = sortPopulation(parents) # Ordenando os pais de acordo com o fitnessValue\n",
    "    return (parents[-2], parents[-1]) #Retornando os dois ultimos elementos da lista que são os com melhores fitness"
   ]
  },
  {
   "cell_type": "markdown",
   "metadata": {},
   "source": [
    "### Seleção dos sobreviventes"
   ]
  },
  {
   "cell_type": "markdown",
   "metadata": {},
   "source": [
    "#### Remover os dois menos adaptados da população"
   ]
  },
  {
   "cell_type": "code",
   "execution_count": 215,
   "metadata": {},
   "outputs": [],
   "source": [
    "def selectLastElements(population):\n",
    "    sortedPopulation = sortPopulation(population)\n",
    "    ### Trocarei os dois primeiros elementos pelos dois novos filhos\n",
    "    ### sortedPopulation[0], sortedPopulation[1] = doisFilhosGerados "
   ]
  }
 ],
 "metadata": {
  "kernelspec": {
   "display_name": "Python 3",
   "language": "python",
   "name": "python3"
  },
  "language_info": {
   "codemirror_mode": {
    "name": "ipython",
    "version": 3
   },
   "file_extension": ".py",
   "mimetype": "text/x-python",
   "name": "python",
   "nbconvert_exporter": "python",
   "pygments_lexer": "ipython3",
   "version": "3.8.2"
  }
 },
 "nbformat": 4,
 "nbformat_minor": 4
}
