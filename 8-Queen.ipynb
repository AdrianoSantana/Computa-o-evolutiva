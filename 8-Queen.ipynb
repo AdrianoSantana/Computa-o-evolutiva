{
 "cells": [
  {
   "cell_type": "markdown",
   "metadata": {},
   "source": [
    "Primeira parte:\n",
    "    • Representação (genótipo): string de bits #OK\n",
    "    • Recombinação: “cut-and-crossfill” crossover #OK\n",
    "    • Probabilidade de Recombinação: 90%\n",
    "    • Mutação: troca de genes #OK\n",
    "    • Probabilidade de Mutação: 40%\n",
    "    • Seleção de pais: ranking - Melhor de 2 de 5 escolhidos aleatoriamente #OK\n",
    "    • Seleção de sobreviventes: substituição do pior\n",
    "    • Tamanho da população: 100 #OK\n",
    "    • Número de filhos gerados: 2\n",
    "    • Inicialização: aleatória #OK\n",
    "    • Condição de término: Encontrar a solução, ou 10.000 avaliações de fitness #OK\n",
    "    • Fitness #OK"
   ]
  },
  {
   "cell_type": "code",
   "execution_count": 1,
   "metadata": {},
   "outputs": [],
   "source": [
    "from random import randint\n",
    "import numpy as np\n",
    "import pandas as pd\n",
    "import seaborn as sns\n",
    "import matplotlib.pyplot as plt\n",
    "import random\n",
    "%matplotlib inline"
   ]
  },
  {
   "cell_type": "code",
   "execution_count": 2,
   "metadata": {},
   "outputs": [],
   "source": [
    "populationSize = 100"
   ]
  },
  {
   "cell_type": "markdown",
   "metadata": {},
   "source": [
    "### Funções auxiliares"
   ]
  },
  {
   "cell_type": "code",
   "execution_count": 3,
   "metadata": {},
   "outputs": [],
   "source": [
    "def truncate(n):\n",
    "    return int(n * 10000) / 10000"
   ]
  },
  {
   "cell_type": "code",
   "execution_count": 4,
   "metadata": {},
   "outputs": [],
   "source": [
    "def run30():\n",
    "    aux = []\n",
    "    print('Executando: ', end= ' ')\n",
    "    for x in range(0,30):\n",
    "        print(x, end=' ')\n",
    "        chess, results = generateSolution()\n",
    "        aux.append(results[-1])\n",
    "    return pd.DataFrame(aux)"
   ]
  },
  {
   "cell_type": "code",
   "execution_count": 5,
   "metadata": {},
   "outputs": [],
   "source": [
    "def generateScatterPlot(df):\n",
    "    plt.figure(figsize=(15,4))\n",
    "    ax = sns.scatterplot(data= df, x='iteracao', y = 'meanFitness')\n",
    "    ax.set_title('Média do fitness por iteração')\n",
    "    ax.set_xlabel('Quantidade de iterações')\n",
    "    ax.set_ylabel('Fitness médio')"
   ]
  },
  {
   "cell_type": "code",
   "execution_count": 6,
   "metadata": {},
   "outputs": [],
   "source": [
    "def generateLinearPlot(df):\n",
    "    plt.figure(figsize=(15,4))\n",
    "    ax = sns.lineplot(data= df, x='iteracao', y = 'meanFitness')\n",
    "    ax.set_title('Média do fitness por iteração')\n",
    "    ax.set_xlabel('Quantidade de iterações')\n",
    "    ax.set_ylabel('Fitness médio')"
   ]
  },
  {
   "cell_type": "code",
   "execution_count": 7,
   "metadata": {},
   "outputs": [],
   "source": [
    "def binaryToDecimal(binary): \n",
    "    binary1 = binary\n",
    "    decimal, i, n = 0, 0, 0\n",
    "    while(binary != 0): \n",
    "        dec = binary % 10\n",
    "        decimal = decimal + dec * pow(2, i) \n",
    "        binary = binary//10\n",
    "        i += 1\n",
    "    return decimal"
   ]
  },
  {
   "cell_type": "code",
   "execution_count": 8,
   "metadata": {},
   "outputs": [],
   "source": [
    "def sortPopulation(population):\n",
    "    # Ordena uma população pelo seu valor de fitness\n",
    "    population.sort(key=lambda x:x['fitnessValue'])\n",
    "    return population"
   ]
  },
  {
   "cell_type": "code",
   "execution_count": 9,
   "metadata": {},
   "outputs": [],
   "source": [
    "def printChess(individual):\n",
    "    aux = []\n",
    "    for queen in individual['individual']:\n",
    "        aux.append(binaryToDecimal(int(queen)))\n",
    "    for x in range(0,8):\n",
    "        for y in range(0,8):\n",
    "            if y == aux[x]:\n",
    "                print('1', end=' ')\n",
    "            else:\n",
    "                print('0', end = ' ')\n",
    "        print('\\n')"
   ]
  },
  {
   "cell_type": "markdown",
   "metadata": {},
   "source": [
    "### Calcular fitness médio"
   ]
  },
  {
   "cell_type": "code",
   "execution_count": 10,
   "metadata": {},
   "outputs": [],
   "source": [
    "def meanFitness(population):\n",
    "    aux = 0\n",
    "    for individual in population:\n",
    "        aux += individual['fitnessValue']\n",
    "    return aux/populationSize"
   ]
  },
  {
   "cell_type": "markdown",
   "metadata": {},
   "source": [
    "### Criar população"
   ]
  },
  {
   "cell_type": "code",
   "execution_count": 11,
   "metadata": {},
   "outputs": [],
   "source": [
    "def generateChess():\n",
    "    aux = []\n",
    "    while(len(aux) != 8):\n",
    "        value = generateQueen()\n",
    "        if not value in aux:\n",
    "            aux.append(value)\n",
    "    return aux"
   ]
  },
  {
   "cell_type": "code",
   "execution_count": 12,
   "metadata": {},
   "outputs": [],
   "source": [
    "def generateQueen():\n",
    "    queenPosition = ''\n",
    "    for bitPosition in range(1,4):\n",
    "        queenPosition += str(randint(0,1))\n",
    "    return queenPosition"
   ]
  },
  {
   "cell_type": "code",
   "execution_count": 13,
   "metadata": {},
   "outputs": [],
   "source": [
    "def generatePopulation():\n",
    "    aux = []\n",
    "    for populationMember in range(populationSize):\n",
    "        aux.append({'individual': generateChess() , 'fitnessValue': -1 }) \n",
    "        #Cria um objeto composto do individuo e seu valor de fitness    \n",
    "    return aux"
   ]
  },
  {
   "cell_type": "markdown",
   "metadata": {},
   "source": [
    "### Quantidade de 'choques'"
   ]
  },
  {
   "cell_type": "code",
   "execution_count": 14,
   "metadata": {},
   "outputs": [],
   "source": [
    "# Se duas rainhas estiverem na mesma coluna ### OK\n",
    "def columnThreaten(individual):\n",
    "    threatenColumn = 0\n",
    "    for column in range(0,8):\n",
    "        binaryColumn = np.binary_repr(column, width=3)\n",
    "        if individual.count(binaryColumn) >= 2:\n",
    "            threatenColumn += 1\n",
    "    return threatenColumn"
   ]
  },
  {
   "cell_type": "code",
   "execution_count": 15,
   "metadata": {},
   "outputs": [],
   "source": [
    "# Se duas rainhas estiverem na mesma diagonal\n",
    "def diagonalThreaten(individual):\n",
    "    deltaRow = 0\n",
    "    deltaCol = 0\n",
    "    threatenDiagonal = 0\n",
    "    for x in range(0,8):\n",
    "        for y in range(0,8):\n",
    "            if x != y:\n",
    "                deltaRow = abs(x-y)\n",
    "                deltaCol = abs(binaryToDecimal(int(individual[x])) - binaryToDecimal(int(individual[y])))\n",
    "                if (deltaRow == deltaCol):\n",
    "                    threatenDiagonal += 1\n",
    "    return threatenDiagonal/4"
   ]
  },
  {
   "cell_type": "markdown",
   "metadata": {},
   "source": [
    "### Calculo do fitness"
   ]
  },
  {
   "cell_type": "code",
   "execution_count": 16,
   "metadata": {},
   "outputs": [],
   "source": [
    "def fitnessIndividual(individual):\n",
    "    value = 1 / (1 + (columnThreaten(individual) + diagonalThreaten(individual)))\n",
    "    return value"
   ]
  },
  {
   "cell_type": "code",
   "execution_count": 17,
   "metadata": {},
   "outputs": [],
   "source": [
    "def fitness(population):\n",
    "    fitnessValue = []\n",
    "    for individual in population:\n",
    "        individual['fitnessValue'] = fitnessIndividual(individual['individual'])"
   ]
  },
  {
   "cell_type": "markdown",
   "metadata": {},
   "source": [
    "#### O valor do fitness será dado pela função 1/1+qntdChoques(tabuleiro)\n",
    "#### Queremos aumentar esse valor de fitness"
   ]
  },
  {
   "cell_type": "markdown",
   "metadata": {},
   "source": [
    "### Mutação"
   ]
  },
  {
   "cell_type": "markdown",
   "metadata": {},
   "source": [
    "Escolher um individuo(tabuleiro) aleatório e trocar a posição de uma rainha"
   ]
  },
  {
   "cell_type": "code",
   "execution_count": 18,
   "metadata": {},
   "outputs": [],
   "source": [
    "def mutationSwap(individual):\n",
    "    posicaoRainhaEscolhida = randint(0,7) ### A rainha que tera seu valor alterado\n",
    "    valorNovaRainha = generateQueen() ##\n",
    "    posicaoRainha2 = individual['individual'].index(valorNovaRainha)\n",
    "    #### Trocar os valores da posicao da rainhaEscolhida com a Rainha 2\n",
    "    aux = individual['individual'][posicaoRainhaEscolhida]\n",
    "    individual['individual'][posicaoRainhaEscolhida] = individual['individual'][posicaoRainha2]\n",
    "    individual['individual'][posicaoRainha2] = aux\n",
    "    return individual"
   ]
  },
  {
   "cell_type": "markdown",
   "metadata": {},
   "source": [
    "### Seleção de pais"
   ]
  },
  {
   "cell_type": "code",
   "execution_count": 19,
   "metadata": {},
   "outputs": [],
   "source": [
    "def chooseRandomIndividuals(population):\n",
    "    aux = []\n",
    "    for i in range(0,5):\n",
    "        value = randint(0,populationSize-1)\n",
    "        aux.append(population[value])\n",
    "    return aux"
   ]
  },
  {
   "cell_type": "code",
   "execution_count": 20,
   "metadata": {},
   "outputs": [],
   "source": [
    "def selectParents(population):\n",
    "    parents = chooseRandomIndividuals(population) #Array de objetos onde os elementos são os individuos e o valor do fitness\n",
    "    parents = sortPopulation(parents) # Ordenando os pais de acordo com o fitnessValue\n",
    "    return (parents[-2], parents[-1]) #Retornando os dois ultimos elementos da lista que são os com melhores fitness"
   ]
  },
  {
   "cell_type": "markdown",
   "metadata": {},
   "source": [
    "### Seleção dos sobreviventes"
   ]
  },
  {
   "cell_type": "markdown",
   "metadata": {},
   "source": [
    "#### Remover os dois menos adaptados da população"
   ]
  },
  {
   "cell_type": "code",
   "execution_count": 21,
   "metadata": {},
   "outputs": [],
   "source": [
    "def replaceElements(population, filho1, filho2):\n",
    "    aux = sortPopulation(population)\n",
    "    aux[0] = filho1\n",
    "    aux[1] = filho2\n",
    "    return aux"
   ]
  },
  {
   "cell_type": "markdown",
   "metadata": {},
   "source": [
    "### Recombinação: “cut-and-crossfill”"
   ]
  },
  {
   "cell_type": "code",
   "execution_count": 22,
   "metadata": {},
   "outputs": [],
   "source": [
    "def copyFirstParent(parent, point):\n",
    "    son = []\n",
    "    for x in range(0,point+1): # Se o primeiro pai for escolhido o filho recebera primeiro os genes dele\n",
    "            son.append(parent['individual'][x])\n",
    "    return son"
   ]
  },
  {
   "cell_type": "code",
   "execution_count": 23,
   "metadata": {},
   "outputs": [],
   "source": [
    "def generateParentTwoAux(parent, point):\n",
    "    aux = []\n",
    "    for x in range(point+1, 8):\n",
    "        aux.append(parent['individual'][x])\n",
    "    for x in range(0, point+1):\n",
    "        aux.append(parent['individual'][x])\n",
    "    return aux"
   ]
  },
  {
   "cell_type": "code",
   "execution_count": 24,
   "metadata": {},
   "outputs": [],
   "source": [
    "def insertValuesSecondParent(parent, point, son):\n",
    "    parentCircular = generateParentTwoAux(parent, point)\n",
    "    while(len(son) != 8):\n",
    "            for x in parentCircular:\n",
    "                if not x in son: # Se o valor do 2 pai ainda não existe no filho insere\n",
    "                    son.append(x)\n",
    "    return {'individual': son, 'fitnessValue': -1}\n",
    "        "
   ]
  },
  {
   "cell_type": "code",
   "execution_count": 25,
   "metadata": {},
   "outputs": [],
   "source": [
    "def recombination(parent_one, parent_two):\n",
    "    son = []\n",
    "    point = randint(0,7) # Escolher uma posição para executar\n",
    "    chooseFirst = randint(0,1)\n",
    "    if (chooseFirst == 0):\n",
    "        son = copyFirstParent(parent_one, point) # Se o primeiro pai for escolhido o filho recebera primeiro os genes dele\n",
    "        return insertValuesSecondParent(parent_two, point, son)\n",
    "    else:\n",
    "        son = copyFirstParent(parent_two, point) # Se o segundo pai for escolhido o filho recebera primeiro os genes dele\n",
    "        return insertValuesSecondParent(parent_one, point, son)"
   ]
  },
  {
   "cell_type": "markdown",
   "metadata": {},
   "source": [
    "### Condição de parada"
   ]
  },
  {
   "cell_type": "code",
   "execution_count": 26,
   "metadata": {},
   "outputs": [],
   "source": [
    "def lookingForFitnessMax(population):\n",
    "    for individual in population:\n",
    "        if individual['fitnessValue'] >= 1:\n",
    "            return True"
   ]
  },
  {
   "cell_type": "code",
   "execution_count": 27,
   "metadata": {},
   "outputs": [],
   "source": [
    "def maxIndividual(population):\n",
    "    for individual in population:\n",
    "        if individual['fitnessValue'] >= 1:\n",
    "            return individual"
   ]
  },
  {
   "cell_type": "markdown",
   "metadata": {},
   "source": [
    "## Gerar Solução"
   ]
  },
  {
   "cell_type": "code",
   "execution_count": 28,
   "metadata": {},
   "outputs": [],
   "source": [
    "def generateSolution():\n",
    "    iteracaoMeanFitness = []\n",
    "    population = generatePopulation()\n",
    "    fitness(population)\n",
    "    i = 0\n",
    "    while (i < 1000) :\n",
    "        iteracaoMeanFitness.append({'iteracao': i, 'meanFitness': meanFitness(population)})\n",
    "        if lookingForFitnessMax(population) == True:\n",
    "            break\n",
    "        pai1, pai2 = selectParents(population)\n",
    "        filho1 = recombination(pai1,pai2)\n",
    "        filho2 = recombination(pai1,pai2)\n",
    "        filho1_mutacao = mutationSwap(filho2)\n",
    "        filho2_mutacao = mutationSwap(filho2)\n",
    "        fitness(population)\n",
    "        population = replaceElements(population, filho1_mutacao, filho2_mutacao)\n",
    "        i += 1\n",
    "    return maxIndividual(population), iteracaoMeanFitness"
   ]
  },
  {
   "cell_type": "code",
   "execution_count": 29,
   "metadata": {},
   "outputs": [
    {
     "data": {
      "text/plain": [
       "({'individual': ['010', '000', '110', '100', '111', '001', '011', '101'],\n",
       "  'fitnessValue': 1.0},\n",
       " [{'iteracao': 0, 'meanFitness': 0.3140569985569983},\n",
       "  {'iteracao': 1, 'meanFitness': 0.2907236652236651},\n",
       "  {'iteracao': 2, 'meanFitness': 0.29280158730158723},\n",
       "  {'iteracao': 3, 'meanFitness': 0.29280158730158723},\n",
       "  {'iteracao': 4, 'meanFitness': 0.2945158730158729},\n",
       "  {'iteracao': 5, 'meanFitness': 0.3005158730158729},\n",
       "  {'iteracao': 6, 'meanFitness': 0.30429365079365067},\n",
       "  {'iteracao': 7, 'meanFitness': 0.3078492063492062},\n",
       "  {'iteracao': 8, 'meanFitness': 0.31673809523809515},\n",
       "  {'iteracao': 9, 'meanFitness': 0.3180079365079364},\n",
       "  {'iteracao': 10, 'meanFitness': 0.3199523809523808},\n",
       "  {'iteracao': 11, 'meanFitness': 0.3216190476190474},\n",
       "  {'iteracao': 12, 'meanFitness': 0.32328571428571407},\n",
       "  {'iteracao': 13, 'meanFitness': 0.32328571428571407},\n",
       "  {'iteracao': 14, 'meanFitness': 0.32828571428571407},\n",
       "  {'iteracao': 15, 'meanFitness': 0.3332857142857141},\n",
       "  {'iteracao': 16, 'meanFitness': 0.3416190476190474},\n",
       "  {'iteracao': 17, 'meanFitness': 0.3416190476190474},\n",
       "  {'iteracao': 18, 'meanFitness': 0.35661904761904745}])"
      ]
     },
     "execution_count": 29,
     "metadata": {},
     "output_type": "execute_result"
    }
   ],
   "source": [
    "generateSolution()"
   ]
  },
  {
   "cell_type": "markdown",
   "metadata": {},
   "source": [
    "# Parte I"
   ]
  },
  {
   "cell_type": "markdown",
   "metadata": {},
   "source": [
    "Na parte 1 do projeto foi solicitado que desenvolvessemos uma solução usando algoritmos genéticos para o problema das 8 rainhas. Com as seguintes especificações iniciais:\n",
    "   * Representação (genótipo): string de bits \n",
    "   * Recombinação: “cut-and-crossfill” crossover \n",
    "   * Probabilidade de Recombinação: 90%\n",
    "   * Mutação: troca de genes #\n",
    "   * Probabilidade de Mutação: 40%\n",
    "   * Seleção de pais: ranking - Melhor de 2 de 5 escolhidos aleatoriamente #\n",
    "   *  Seleção de sobreviventes: substituição do pior\n",
    "   *  Tamanho da população: 100 \n",
    "   *  Número de filhos gerados: 2\n",
    "   *  Inicialização: aleatória \n",
    "   *  Condição de término: Encontrar a solução, ou 10.000 avaliações de fitness \n",
    "   * Fitness "
   ]
  },
  {
   "cell_type": "markdown",
   "metadata": {},
   "source": [
    "### Avaliação"
   ]
  },
  {
   "cell_type": "code",
   "execution_count": 30,
   "metadata": {},
   "outputs": [
    {
     "name": "stdout",
     "output_type": "stream",
     "text": [
      "Executando:  0 1 2 3 4 5 6 7 8 9 10 11 12 13 14 15 16 17 18 19 20 21 22 23 24 25 26 27 28 29 "
     ]
    }
   ],
   "source": [
    "df = run30()"
   ]
  },
  {
   "cell_type": "markdown",
   "metadata": {},
   "source": [
    "#### Analisando as iterações"
   ]
  },
  {
   "cell_type": "code",
   "execution_count": 31,
   "metadata": {},
   "outputs": [
    {
     "data": {
      "text/plain": [
       "count     30.000000\n",
       "mean     119.700000\n",
       "std      126.695168\n",
       "min        0.000000\n",
       "25%        0.000000\n",
       "50%       87.500000\n",
       "75%      186.250000\n",
       "max      435.000000\n",
       "Name: iteracao, dtype: float64"
      ]
     },
     "execution_count": 31,
     "metadata": {},
     "output_type": "execute_result"
    }
   ],
   "source": [
    "df.loc[:,'iteracao'].describe()"
   ]
  },
  {
   "cell_type": "markdown",
   "metadata": {},
   "source": [
    "#### Analisando o fitness médio por iteração"
   ]
  },
  {
   "cell_type": "code",
   "execution_count": 32,
   "metadata": {},
   "outputs": [
    {
     "data": {
      "text/plain": [
       "count    30.000000\n",
       "mean      0.417389\n",
       "std       0.079431\n",
       "min       0.304479\n",
       "25%       0.329091\n",
       "50%       0.434833\n",
       "75%       0.466917\n",
       "max       0.583333\n",
       "Name: meanFitness, dtype: float64"
      ]
     },
     "execution_count": 32,
     "metadata": {},
     "output_type": "execute_result"
    }
   ],
   "source": [
    "df.loc[:,'meanFitness'].describe()"
   ]
  },
  {
   "cell_type": "code",
   "execution_count": 33,
   "metadata": {},
   "outputs": [
    {
     "data": {
      "image/png": "[encoded data removed]",
      "text/plain": [
       "<Figure size 1080x288 with 1 Axes>"
      ]
     },
     "metadata": {
      "needs_background": "light"
     },
     "output_type": "display_data"
    }
   ],
   "source": [
    "generateLinearPlot(df)"
   ]
  },
  {
   "cell_type": "code",
   "execution_count": 34,
   "metadata": {
    "scrolled": true
   },
   "outputs": [
    {
     "data": {
      "image/png": "[encoded data removed]",
      "text/plain": [
       "<Figure size 1080x288 with 1 Axes>"
      ]
     },
     "metadata": {
      "needs_background": "light"
     },
     "output_type": "display_data"
    }
   ],
   "source": [
    "generateScatterPlot(df)"
   ]
  },
  {
   "cell_type": "markdown",
   "metadata": {},
   "source": [
    "### Quantas iterações seriam necessarias para todos terem fitness = 1 ?"
   ]
  },
  {
   "cell_type": "markdown",
   "metadata": {},
   "source": [
    "# Parte II"
   ]
  },
  {
   "cell_type": "markdown",
   "metadata": {},
   "source": [
    "### Alterações"
   ]
  },
  {
   "cell_type": "markdown",
   "metadata": {},
   "source": [
    "* Tamanho da população\n",
    "    * 50 #OK\n",
    "    * 150 #OK\n",
    "* Mutação\n",
    "    * Mutação por inversão #OK\n",
    "* Substituir os pais por geração\n",
    "* Seleção de pais - implementar roleta\n",
    "* Recombinação - slide 6\n",
    "    * N-points\n",
    "    * Cruzamento uniforme"
   ]
  },
  {
   "cell_type": "markdown",
   "metadata": {},
   "source": [
    "# Alterando o tamanho da população"
   ]
  },
  {
   "cell_type": "markdown",
   "metadata": {},
   "source": [
    "Primeiro: Diminuir o tamanho da população em 50% e avaliar o que ocorrerá."
   ]
  },
  {
   "cell_type": "markdown",
   "metadata": {},
   "source": [
    "Segundo: Aumentar o tamanho da população em 50%"
   ]
  },
  {
   "cell_type": "markdown",
   "metadata": {},
   "source": [
    "### Tamanho da população = 50"
   ]
  },
  {
   "cell_type": "code",
   "execution_count": 35,
   "metadata": {},
   "outputs": [],
   "source": [
    "populationSize = 50"
   ]
  },
  {
   "cell_type": "code",
   "execution_count": 36,
   "metadata": {},
   "outputs": [
    {
     "name": "stdout",
     "output_type": "stream",
     "text": [
      "Executando:  0 1 2 3 4 5 6 7 8 9 10 11 12 13 14 15 16 17 18 19 20 21 22 23 24 25 26 27 28 29 "
     ]
    }
   ],
   "source": [
    "df_population_size_50 = run30()"
   ]
  },
  {
   "cell_type": "code",
   "execution_count": 37,
   "metadata": {
    "scrolled": true
   },
   "outputs": [
    {
     "data": {
      "text/plain": [
       "count     30.00000\n",
       "mean     185.00000\n",
       "std      190.99666\n",
       "min        0.00000\n",
       "25%       84.00000\n",
       "50%      116.00000\n",
       "75%      264.50000\n",
       "max      659.00000\n",
       "Name: iteracao, dtype: float64"
      ]
     },
     "execution_count": 37,
     "metadata": {},
     "output_type": "execute_result"
    }
   ],
   "source": [
    "df_population_size_50.loc[:,'iteracao'].describe()"
   ]
  },
  {
   "cell_type": "markdown",
   "metadata": {},
   "source": [
    "#### Quantas soluções foram encontradas na iteração de número 0"
   ]
  },
  {
   "cell_type": "code",
   "execution_count": 38,
   "metadata": {},
   "outputs": [
    {
     "data": {
      "text/html": [
       "<div>\n",
       "<style scoped>\n",
       "    .dataframe tbody tr th:only-of-type {\n",
       "        vertical-align: middle;\n",
       "    }\n",
       "\n",
       "    .dataframe tbody tr th {\n",
       "        vertical-align: top;\n",
       "    }\n",
       "\n",
       "    .dataframe thead th {\n",
       "        text-align: right;\n",
       "    }\n",
       "</style>\n",
       "<table border=\"1\" class=\"dataframe\">\n",
       "  <thead>\n",
       "    <tr style=\"text-align: right;\">\n",
       "      <th></th>\n",
       "      <th>iteracao</th>\n",
       "      <th>meanFitness</th>\n",
       "    </tr>\n",
       "  </thead>\n",
       "  <tbody>\n",
       "    <tr>\n",
       "      <th>6</th>\n",
       "      <td>0</td>\n",
       "      <td>0.312537</td>\n",
       "    </tr>\n",
       "    <tr>\n",
       "      <th>19</th>\n",
       "      <td>0</td>\n",
       "      <td>0.333556</td>\n",
       "    </tr>\n",
       "    <tr>\n",
       "      <th>24</th>\n",
       "      <td>0</td>\n",
       "      <td>0.328858</td>\n",
       "    </tr>\n",
       "    <tr>\n",
       "      <th>25</th>\n",
       "      <td>0</td>\n",
       "      <td>0.328392</td>\n",
       "    </tr>\n",
       "  </tbody>\n",
       "</table>\n",
       "</div>"
      ],
      "text/plain": [
       "    iteracao  meanFitness\n",
       "6          0     0.312537\n",
       "19         0     0.333556\n",
       "24         0     0.328858\n",
       "25         0     0.328392"
      ]
     },
     "execution_count": 38,
     "metadata": {},
     "output_type": "execute_result"
    }
   ],
   "source": [
    "df_population_size_50.loc[df_population_size_50['iteracao'] == 0]"
   ]
  },
  {
   "cell_type": "code",
   "execution_count": 39,
   "metadata": {},
   "outputs": [
    {
     "data": {
      "text/plain": [
       "count    30.000000\n",
       "mean      0.473442\n",
       "std       0.099771\n",
       "min       0.312537\n",
       "25%       0.406833\n",
       "50%       0.490000\n",
       "75%       0.550833\n",
       "max       0.613333\n",
       "Name: meanFitness, dtype: float64"
      ]
     },
     "execution_count": 39,
     "metadata": {},
     "output_type": "execute_result"
    }
   ],
   "source": [
    "df_population_size_50.loc[:,'meanFitness'].describe()"
   ]
  },
  {
   "cell_type": "code",
   "execution_count": 40,
   "metadata": {},
   "outputs": [
    {
     "data": {
      "image/png": "[encoded data removed]",
      "text/plain": [
       "<Figure size 1080x288 with 1 Axes>"
      ]
     },
     "metadata": {
      "needs_background": "light"
     },
     "output_type": "display_data"
    }
   ],
   "source": [
    "generateLinearPlot(df_population_size_50)"
   ]
  },
  {
   "cell_type": "code",
   "execution_count": 41,
   "metadata": {},
   "outputs": [
    {
     "data": {
      "image/png": "[encoded data removed]",
      "text/plain": [
       "<Figure size 1080x288 with 1 Axes>"
      ]
     },
     "metadata": {
      "needs_background": "light"
     },
     "output_type": "display_data"
    }
   ],
   "source": [
    "generateScatterPlot(df_population_size_50)"
   ]
  },
  {
   "cell_type": "markdown",
   "metadata": {},
   "source": [
    "### Tamanho da população = 150"
   ]
  },
  {
   "cell_type": "code",
   "execution_count": 42,
   "metadata": {},
   "outputs": [],
   "source": [
    "populationSize = 50"
   ]
  },
  {
   "cell_type": "code",
   "execution_count": 43,
   "metadata": {},
   "outputs": [
    {
     "name": "stdout",
     "output_type": "stream",
     "text": [
      "Executando:  0 1 2 3 4 5 6 7 8 9 10 11 12 13 14 15 16 17 18 19 20 21 22 23 24 25 26 27 28 29 "
     ]
    }
   ],
   "source": [
    "df_population_size_150 = run30()"
   ]
  },
  {
   "cell_type": "code",
   "execution_count": 44,
   "metadata": {},
   "outputs": [
    {
     "data": {
      "text/plain": [
       "count     30.000000\n",
       "mean     213.733333\n",
       "std      221.863725\n",
       "min        0.000000\n",
       "25%       39.000000\n",
       "50%      161.500000\n",
       "75%      321.000000\n",
       "max      950.000000\n",
       "Name: iteracao, dtype: float64"
      ]
     },
     "execution_count": 44,
     "metadata": {},
     "output_type": "execute_result"
    }
   ],
   "source": [
    "df_population_size_150.loc[:,'iteracao'].describe()"
   ]
  },
  {
   "cell_type": "code",
   "execution_count": 45,
   "metadata": {},
   "outputs": [
    {
     "data": {
      "text/plain": [
       "count    30.000000\n",
       "mean      0.487193\n",
       "std       0.103850\n",
       "min       0.325429\n",
       "25%       0.393833\n",
       "50%       0.499333\n",
       "75%       0.573333\n",
       "max       0.613333\n",
       "Name: meanFitness, dtype: float64"
      ]
     },
     "execution_count": 45,
     "metadata": {},
     "output_type": "execute_result"
    }
   ],
   "source": [
    "df_population_size_150.loc[:,'meanFitness'].describe()"
   ]
  },
  {
   "cell_type": "code",
   "execution_count": 46,
   "metadata": {},
   "outputs": [
    {
     "data": {
      "image/png": "[encoded data removed]",
      "text/plain": [
       "<Figure size 1080x288 with 1 Axes>"
      ]
     },
     "metadata": {
      "needs_background": "light"
     },
     "output_type": "display_data"
    }
   ],
   "source": [
    "generateLinearPlot(df_population_size_150)"
   ]
  },
  {
   "cell_type": "code",
   "execution_count": 47,
   "metadata": {
    "scrolled": true
   },
   "outputs": [
    {
     "data": {
      "image/png": "[encoded data removed]",
      "text/plain": [
       "<Figure size 1080x288 with 1 Axes>"
      ]
     },
     "metadata": {
      "needs_background": "light"
     },
     "output_type": "display_data"
    }
   ],
   "source": [
    "generateScatterPlot(df_population_size_50)"
   ]
  },
  {
   "cell_type": "markdown",
   "metadata": {},
   "source": [
    "# Alterando a mutação"
   ]
  },
  {
   "cell_type": "markdown",
   "metadata": {},
   "source": [
    "### Mutação por inversão"
   ]
  },
  {
   "cell_type": "markdown",
   "metadata": {},
   "source": [
    "Escolhe-se uma sequencia de genes de forma aleatória e inverte a ordem da substring entre estes genes"
   ]
  },
  {
   "cell_type": "code",
   "execution_count": 48,
   "metadata": {},
   "outputs": [],
   "source": [
    "def mutacao_inversao(individuo):\n",
    "    sequencia = []\n",
    "    aux = individuo\n",
    "    from itertools import cycle\n",
    "    tamanho = randint(2,4)\n",
    "    comeco = randint(0,4)\n",
    "    #print('Tamanho e comeco: ', tamanho, comeco, end = ' ')\n",
    "    for x in range(comeco,tamanho+comeco):\n",
    "        sequencia.append(individuo['individual'][x])\n",
    "    sequencia = sequencia[::-1]\n",
    "    i = 0\n",
    "    for y in range(comeco,tamanho+comeco):\n",
    "        aux['individual'][y] = sequencia[i]\n",
    "        i += 1\n",
    "    return aux"
   ]
  },
  {
   "cell_type": "code",
   "execution_count": 49,
   "metadata": {},
   "outputs": [],
   "source": [
    "def generateSolutionMutacaoInversa():\n",
    "    populationSize = 100\n",
    "    iteracaoMeanFitness = []\n",
    "    population = generatePopulation()\n",
    "    fitness(population)\n",
    "    i = 0\n",
    "    while (i < 10000) :\n",
    "        iteracaoMeanFitness.append({'iteracao': i, 'meanFitness': meanFitness(population)})\n",
    "        if lookingForFitnessMax(population) == True:\n",
    "            break\n",
    "        pai1, pai2 = selectParents(population)\n",
    "        filho1 = recombination(pai1,pai2)\n",
    "        filho2 = recombination(pai1,pai2)\n",
    "        filho1_mutacao = mutacao_inversao(filho2)\n",
    "        filho2_mutacao = mutacao_inversao(filho2)\n",
    "        fitness(population)\n",
    "        population = replaceElements(population, filho1_mutacao, filho2_mutacao)\n",
    "        i += 1\n",
    "    return maxIndividual(population), iteracaoMeanFitness"
   ]
  },
  {
   "cell_type": "code",
   "execution_count": 76,
   "metadata": {},
   "outputs": [
    {
     "data": {
      "text/plain": [
       "({'individual': ['010', '101', '011', '000', '111', '100', '110', '001'],\n",
       "  'fitnessValue': 1.0},\n",
       " [{'iteracao': 0, 'meanFitness': 0.31350400000000006},\n",
       "  {'iteracao': 1, 'meanFitness': 0.2670960000000001},\n",
       "  {'iteracao': 2, 'meanFitness': 0.2724280000000001},\n",
       "  {'iteracao': 3, 'meanFitness': 0.2735400000000001},\n",
       "  {'iteracao': 4, 'meanFitness': 0.2760800000000001},\n",
       "  {'iteracao': 5, 'meanFitness': 0.2820800000000001},\n",
       "  {'iteracao': 6, 'meanFitness': 0.28808000000000017},\n",
       "  {'iteracao': 7, 'meanFitness': 0.28808000000000017},\n",
       "  {'iteracao': 8, 'meanFitness': 0.29141200000000017},\n",
       "  {'iteracao': 9, 'meanFitness': 0.29141200000000017},\n",
       "  {'iteracao': 10, 'meanFitness': 0.29284000000000016},\n",
       "  {'iteracao': 11, 'meanFitness': 0.29284000000000016},\n",
       "  {'iteracao': 12, 'meanFitness': 0.29284000000000016},\n",
       "  {'iteracao': 13, 'meanFitness': 0.3014120000000002},\n",
       "  {'iteracao': 14, 'meanFitness': 0.30331600000000014},\n",
       "  {'iteracao': 15, 'meanFitness': 0.30522000000000016},\n",
       "  {'iteracao': 16, 'meanFitness': 0.3137920000000001},\n",
       "  {'iteracao': 17, 'meanFitness': 0.31836400000000015},\n",
       "  {'iteracao': 18, 'meanFitness': 0.31836400000000015},\n",
       "  {'iteracao': 19, 'meanFitness': 0.31836400000000015},\n",
       "  {'iteracao': 20, 'meanFitness': 0.31836400000000015},\n",
       "  {'iteracao': 21, 'meanFitness': 0.32026800000000016},\n",
       "  {'iteracao': 22, 'meanFitness': 0.32026800000000016},\n",
       "  {'iteracao': 23, 'meanFitness': 0.32026800000000016},\n",
       "  {'iteracao': 24, 'meanFitness': 0.32026800000000016},\n",
       "  {'iteracao': 25, 'meanFitness': 0.3248400000000002},\n",
       "  {'iteracao': 26, 'meanFitness': 0.3248400000000002},\n",
       "  {'iteracao': 27, 'meanFitness': 0.3248400000000002},\n",
       "  {'iteracao': 28, 'meanFitness': 0.3248400000000002},\n",
       "  {'iteracao': 29, 'meanFitness': 0.32674400000000015},\n",
       "  {'iteracao': 30, 'meanFitness': 0.32674400000000015},\n",
       "  {'iteracao': 31, 'meanFitness': 0.32674400000000015},\n",
       "  {'iteracao': 32, 'meanFitness': 0.32674400000000015},\n",
       "  {'iteracao': 33, 'meanFitness': 0.32674400000000015},\n",
       "  {'iteracao': 34, 'meanFitness': 0.3313160000000001},\n",
       "  {'iteracao': 35, 'meanFitness': 0.3313160000000001},\n",
       "  {'iteracao': 36, 'meanFitness': 0.3313160000000001},\n",
       "  {'iteracao': 37, 'meanFitness': 0.3313160000000001},\n",
       "  {'iteracao': 38, 'meanFitness': 0.3313160000000001},\n",
       "  {'iteracao': 39, 'meanFitness': 0.3313160000000001},\n",
       "  {'iteracao': 40, 'meanFitness': 0.3313160000000001},\n",
       "  {'iteracao': 41, 'meanFitness': 0.3313160000000001},\n",
       "  {'iteracao': 42, 'meanFitness': 0.3313160000000001},\n",
       "  {'iteracao': 43, 'meanFitness': 0.3313160000000001},\n",
       "  {'iteracao': 44, 'meanFitness': 0.3313160000000001},\n",
       "  {'iteracao': 45, 'meanFitness': 0.3313160000000001},\n",
       "  {'iteracao': 46, 'meanFitness': 0.3313160000000001},\n",
       "  {'iteracao': 47, 'meanFitness': 0.3313160000000001},\n",
       "  {'iteracao': 48, 'meanFitness': 0.3313160000000001},\n",
       "  {'iteracao': 49, 'meanFitness': 0.3313160000000001},\n",
       "  {'iteracao': 50, 'meanFitness': 0.3339840000000001},\n",
       "  {'iteracao': 51, 'meanFitness': 0.3339840000000001},\n",
       "  {'iteracao': 52, 'meanFitness': 0.3339840000000001},\n",
       "  {'iteracao': 53, 'meanFitness': 0.3339840000000001},\n",
       "  {'iteracao': 54, 'meanFitness': 0.3339840000000001},\n",
       "  {'iteracao': 55, 'meanFitness': 0.3406520000000001},\n",
       "  {'iteracao': 56, 'meanFitness': 0.34332000000000007},\n",
       "  {'iteracao': 57, 'meanFitness': 0.3499880000000001},\n",
       "  {'iteracao': 58, 'meanFitness': 0.3499880000000001},\n",
       "  {'iteracao': 59, 'meanFitness': 0.35265600000000014},\n",
       "  {'iteracao': 60, 'meanFitness': 0.35265600000000014},\n",
       "  {'iteracao': 61, 'meanFitness': 0.35265600000000014},\n",
       "  {'iteracao': 62, 'meanFitness': 0.35265600000000014},\n",
       "  {'iteracao': 63, 'meanFitness': 0.35265600000000014},\n",
       "  {'iteracao': 64, 'meanFitness': 0.35265600000000014},\n",
       "  {'iteracao': 65, 'meanFitness': 0.35265600000000014},\n",
       "  {'iteracao': 66, 'meanFitness': 0.35265600000000014},\n",
       "  {'iteracao': 67, 'meanFitness': 0.35265600000000014},\n",
       "  {'iteracao': 68, 'meanFitness': 0.35265600000000014},\n",
       "  {'iteracao': 69, 'meanFitness': 0.35265600000000014},\n",
       "  {'iteracao': 70, 'meanFitness': 0.35265600000000014},\n",
       "  {'iteracao': 71, 'meanFitness': 0.36598800000000004},\n",
       "  {'iteracao': 72, 'meanFitness': 0.36598800000000004},\n",
       "  {'iteracao': 73, 'meanFitness': 0.37932000000000005},\n",
       "  {'iteracao': 74, 'meanFitness': 0.385988},\n",
       "  {'iteracao': 75, 'meanFitness': 0.38865599999999995},\n",
       "  {'iteracao': 76, 'meanFitness': 0.39532399999999995},\n",
       "  {'iteracao': 77, 'meanFitness': 0.39532399999999995},\n",
       "  {'iteracao': 78, 'meanFitness': 0.39532399999999995},\n",
       "  {'iteracao': 79, 'meanFitness': 0.39532399999999995},\n",
       "  {'iteracao': 80, 'meanFitness': 0.39532399999999995},\n",
       "  {'iteracao': 81, 'meanFitness': 0.39532399999999995},\n",
       "  {'iteracao': 82, 'meanFitness': 0.39532399999999995},\n",
       "  {'iteracao': 83, 'meanFitness': 0.39532399999999995},\n",
       "  {'iteracao': 84, 'meanFitness': 0.39532399999999995},\n",
       "  {'iteracao': 85, 'meanFitness': 0.39532399999999995},\n",
       "  {'iteracao': 86, 'meanFitness': 0.3979919999999999},\n",
       "  {'iteracao': 87, 'meanFitness': 0.3979919999999999},\n",
       "  {'iteracao': 88, 'meanFitness': 0.3979919999999999},\n",
       "  {'iteracao': 89, 'meanFitness': 0.3979919999999999},\n",
       "  {'iteracao': 90, 'meanFitness': 0.3979919999999999},\n",
       "  {'iteracao': 91, 'meanFitness': 0.40065999999999996},\n",
       "  {'iteracao': 92, 'meanFitness': 0.40465999999999996},\n",
       "  {'iteracao': 93, 'meanFitness': 0.42865999999999993}])"
      ]
     },
     "execution_count": 76,
     "metadata": {},
     "output_type": "execute_result"
    }
   ],
   "source": [
    "generateSolutionMutacaoInversa()"
   ]
  },
  {
   "cell_type": "code",
   "execution_count": 50,
   "metadata": {},
   "outputs": [],
   "source": [
    "def run30MutacaoInversa():\n",
    "    aux = []\n",
    "    print('Executando: ', end= ' ')\n",
    "    for x in range(0,30):\n",
    "        print(x, end=' ')\n",
    "        chess, results = generateSolutionMutacaoInversa()\n",
    "        aux.append(results[-1])\n",
    "    return pd.DataFrame(aux)"
   ]
  },
  {
   "cell_type": "code",
   "execution_count": 51,
   "metadata": {},
   "outputs": [
    {
     "name": "stdout",
     "output_type": "stream",
     "text": [
      "Executando:  0 1 2 3 4 5 6 7 8 9 10 11 12 13 14 15 16 17 18 19 20 21 22 23 24 25 26 27 28 29 "
     ]
    }
   ],
   "source": [
    "df_mutacao_inversa = run30MutacaoInversa()"
   ]
  },
  {
   "cell_type": "code",
   "execution_count": 52,
   "metadata": {},
   "outputs": [
    {
     "data": {
      "text/plain": [
       "count     30.000000\n",
       "mean     119.700000\n",
       "std      126.695168\n",
       "min        0.000000\n",
       "25%        0.000000\n",
       "50%       87.500000\n",
       "75%      186.250000\n",
       "max      435.000000\n",
       "Name: iteracao, dtype: float64"
      ]
     },
     "execution_count": 52,
     "metadata": {},
     "output_type": "execute_result"
    }
   ],
   "source": [
    "df.loc[:,'iteracao'].describe()"
   ]
  },
  {
   "cell_type": "code",
   "execution_count": 53,
   "metadata": {
    "scrolled": true
   },
   "outputs": [
    {
     "data": {
      "text/plain": [
       "count    30.000000\n",
       "mean      0.417389\n",
       "std       0.079431\n",
       "min       0.304479\n",
       "25%       0.329091\n",
       "50%       0.434833\n",
       "75%       0.466917\n",
       "max       0.583333\n",
       "Name: meanFitness, dtype: float64"
      ]
     },
     "execution_count": 53,
     "metadata": {},
     "output_type": "execute_result"
    }
   ],
   "source": [
    "df.loc[:,'meanFitness'].describe()"
   ]
  },
  {
   "cell_type": "code",
   "execution_count": 54,
   "metadata": {},
   "outputs": [
    {
     "data": {
      "image/png": "[encoded data removed]",
      "text/plain": [
       "<Figure size 1080x288 with 1 Axes>"
      ]
     },
     "metadata": {
      "needs_background": "light"
     },
     "output_type": "display_data"
    }
   ],
   "source": [
    "generateLinearPlot(df)"
   ]
  },
  {
   "cell_type": "code",
   "execution_count": 55,
   "metadata": {
    "scrolled": true
   },
   "outputs": [
    {
     "data": {
      "image/png": "[encoded data removed]",
      "text/plain": [
       "<Figure size 1080x288 with 1 Axes>"
      ]
     },
     "metadata": {
      "needs_background": "light"
     },
     "output_type": "display_data"
    }
   ],
   "source": [
    "generateScatterPlot(df)"
   ]
  },
  {
   "cell_type": "markdown",
   "metadata": {},
   "source": [
    "# Alterando o tipo de seleção dos país"
   ]
  },
  {
   "cell_type": "markdown",
   "metadata": {},
   "source": [
    "### Usando o método da roleta"
   ]
  },
  {
   "cell_type": "markdown",
   "metadata": {},
   "source": [
    "#### Recombinação roleta"
   ]
  },
  {
   "cell_type": "code",
   "execution_count": 79,
   "metadata": {},
   "outputs": [],
   "source": [
    "def insertValuesSecondParentRoleta(parent, point, son):\n",
    "    parentCircular = generateParentTwoAux(parent, point)\n",
    "    while(len(son) != 8):\n",
    "            for x in parentCircular:\n",
    "                if not x in son: # Se o valor do 2 pai ainda não existe no filho insere\n",
    "                    son.append(x)\n",
    "    return {'individual': son, 'fitnessValue': 0, 'roleta': 0 }"
   ]
  },
  {
   "cell_type": "code",
   "execution_count": 80,
   "metadata": {},
   "outputs": [],
   "source": [
    "def recombinationRoleta(parent_one, parent_two):\n",
    "    son = []\n",
    "    point = randint(0,7) # Escolher uma posição para executar\n",
    "    chooseFirst = randint(0,1)\n",
    "    if (chooseFirst == 0):\n",
    "        son = copyFirstParent(parent_one, point) # Se o primeiro pai for escolhido o filho recebera primeiro os genes dele\n",
    "        return insertValuesSecondParentRoleta(parent_two, point, son)\n",
    "    else:\n",
    "        son = copyFirstParent(parent_two, point) # Se o segundo pai for escolhido o filho recebera primeiro os genes dele\n",
    "        return insertValuesSecondParentRoleta(parent_one, point, son)"
   ]
  },
  {
   "cell_type": "markdown",
   "metadata": {},
   "source": [
    "#### Preciso criar uma população com o atributo probabilidade"
   ]
  },
  {
   "cell_type": "code",
   "execution_count": 81,
   "metadata": {},
   "outputs": [],
   "source": [
    "def gerarPopulacaoComAtributosRoleta():\n",
    "    populationSize = 100\n",
    "    aux = []\n",
    "    for populationMember in range(populationSize):\n",
    "        aux.append({'individual': generateChess() , 'fitnessValue': -1, 'roleta': 0 }) \n",
    "        #Cria um objeto composto do individuo, seu valor de fitness e valores relacionados a seleção de pais  \n",
    "    return aux"
   ]
  },
  {
   "cell_type": "markdown",
   "metadata": {},
   "source": [
    "#### Zerar roleta"
   ]
  },
  {
   "cell_type": "code",
   "execution_count": 82,
   "metadata": {},
   "outputs": [],
   "source": [
    "def zerarRoleta(populacao):\n",
    "    for individuo in populacao:\n",
    "        individuo['roleta'] = 0"
   ]
  },
  {
   "cell_type": "markdown",
   "metadata": {},
   "source": [
    "#### Calculando valores da roleta"
   ]
  },
  {
   "cell_type": "code",
   "execution_count": 83,
   "metadata": {},
   "outputs": [],
   "source": [
    "def calcularValoresRoleta(populacao):\n",
    "    for i in range(0, len(populacao)):\n",
    "        if i == 0:\n",
    "            populacao[i]['roleta'] = populacao[i]['fitnessValue']\n",
    "        else:\n",
    "            populacao[i]['roleta'] = populacao[i]['fitnessValue'] + populacao[i-1]['roleta']"
   ]
  },
  {
   "cell_type": "markdown",
   "metadata": {},
   "source": [
    "#### Selecionando o pai"
   ]
  },
  {
   "cell_type": "code",
   "execution_count": 84,
   "metadata": {},
   "outputs": [],
   "source": [
    "def escolherPaiUsandoRoleta(populacao, maxValueRoleta):\n",
    "    giroRoleta = random.uniform(0, maxValueRoleta)\n",
    "    for individuo in populacao:\n",
    "        if individuo['roleta'] >= giroRoleta:\n",
    "            return individuo"
   ]
  },
  {
   "cell_type": "markdown",
   "metadata": {},
   "source": [
    "#### Max value"
   ]
  },
  {
   "cell_type": "code",
   "execution_count": 85,
   "metadata": {},
   "outputs": [],
   "source": [
    "def maxValue(populacao):\n",
    "    aux = []\n",
    "    for individuo in populacao:\n",
    "        aux.append(individuo['fitnessValue'])\n",
    "    return max(aux)"
   ]
  },
  {
   "cell_type": "markdown",
   "metadata": {},
   "source": [
    "#### Fitness roleta"
   ]
  },
  {
   "cell_type": "code",
   "execution_count": 86,
   "metadata": {},
   "outputs": [],
   "source": [
    "def fitnessIndividual(individual):\n",
    "    value = 1 / (1 + (columnThreaten(individual) + diagonalThreaten(individual)))\n",
    "    return truncate(value)"
   ]
  },
  {
   "cell_type": "code",
   "execution_count": 87,
   "metadata": {},
   "outputs": [],
   "source": [
    "def fitness(population):\n",
    "    fitnessValue = []\n",
    "    for individual in population:\n",
    "        individual['fitnessValue'] = fitnessIndividual(individual['individual'])"
   ]
  },
  {
   "cell_type": "markdown",
   "metadata": {},
   "source": [
    "#### método principal da roleta"
   ]
  },
  {
   "cell_type": "code",
   "execution_count": 88,
   "metadata": {},
   "outputs": [],
   "source": [
    "def roleta(populacao):\n",
    "    calcularValoresRoleta(populacao)\n",
    "    maxValueRoleta = maxValue(populacao)\n",
    "    pai = escolherPaiUsandoRoleta(populacao, maxValueRoleta)\n",
    "    return pai"
   ]
  },
  {
   "cell_type": "code",
   "execution_count": 89,
   "metadata": {},
   "outputs": [],
   "source": [
    "def generateSolutionRoleta():\n",
    "    iteracaoMeanFitness = []\n",
    "    population = gerarPopulacaoComAtributosRoleta()\n",
    "    fitness(population)\n",
    "    i = 0\n",
    "    while (i < 10000) :\n",
    "        iteracaoMeanFitness.append({'iteracao': i, 'meanFitness': meanFitness(population)})\n",
    "        if lookingForFitnessMax(population) == True:\n",
    "            break\n",
    "        pai1 = roleta(population)\n",
    "        pai2 = roleta(population)\n",
    "        zerarRoleta(population)\n",
    "        filho1 = recombinationRoleta(pai1,pai2)\n",
    "        filho2 = recombinationRoleta(pai1,pai2)\n",
    "        filho1_mutacao = mutationSwap(filho2)\n",
    "        filho2_mutacao = mutationSwap(filho2)\n",
    "        fitness(population)\n",
    "        population = replaceElements(population, filho1_mutacao, filho2_mutacao)\n",
    "        i += 1\n",
    "    return maxIndividual(population), iteracaoMeanFitness"
   ]
  },
  {
   "cell_type": "markdown",
   "metadata": {},
   "source": [
    "#### Gerando uma solução de exemplo"
   ]
  },
  {
   "cell_type": "code",
   "execution_count": 91,
   "metadata": {},
   "outputs": [
    {
     "data": {
      "text/plain": [
       "({'individual': ['011', '111', '000', '100', '110', '001', '101', '010'],\n",
       "  'fitnessValue': 1.0,\n",
       "  'roleta': 0},\n",
       " [{'iteracao': 0, 'meanFitness': 0.6528419999999997},\n",
       "  {'iteracao': 1, 'meanFitness': 0.6471299999999998},\n",
       "  {'iteracao': 2, 'meanFitness': 0.6504179999999998},\n",
       "  {'iteracao': 3, 'meanFitness': 0.6538459999999999},\n",
       "  {'iteracao': 4, 'meanFitness': 0.659178},\n",
       "  {'iteracao': 5, 'meanFitness': 0.6611779999999999},\n",
       "  {'iteracao': 6, 'meanFitness': 0.6611779999999999},\n",
       "  {'iteracao': 7, 'meanFitness': 0.66229},\n",
       "  {'iteracao': 8, 'meanFitness': 0.6648299999999999},\n",
       "  {'iteracao': 9, 'meanFitness': 0.669274},\n",
       "  {'iteracao': 10, 'meanFitness': 0.669274},\n",
       "  {'iteracao': 11, 'meanFitness': 0.673162},\n",
       "  {'iteracao': 12, 'meanFitness': 0.673162},\n",
       "  {'iteracao': 13, 'meanFitness': 0.683162},\n",
       "  {'iteracao': 14, 'meanFitness': 0.683162},\n",
       "  {'iteracao': 15, 'meanFitness': 0.683162},\n",
       "  {'iteracao': 16, 'meanFitness': 0.6864940000000002},\n",
       "  {'iteracao': 17, 'meanFitness': 0.6964940000000002},\n",
       "  {'iteracao': 18, 'meanFitness': 0.697922},\n",
       "  {'iteracao': 19, 'meanFitness': 0.69935},\n",
       "  {'iteracao': 20, 'meanFitness': 0.69935},\n",
       "  {'iteracao': 21, 'meanFitness': 0.700778},\n",
       "  {'iteracao': 22, 'meanFitness': 0.700778},\n",
       "  {'iteracao': 23, 'meanFitness': 0.70411},\n",
       "  {'iteracao': 24, 'meanFitness': 0.70411},\n",
       "  {'iteracao': 25, 'meanFitness': 0.70411},\n",
       "  {'iteracao': 26, 'meanFitness': 0.71411},\n",
       "  {'iteracao': 27, 'meanFitness': 0.71411},\n",
       "  {'iteracao': 28, 'meanFitness': 0.715538},\n",
       "  {'iteracao': 29, 'meanFitness': 0.7215379999999999},\n",
       "  {'iteracao': 30, 'meanFitness': 0.7215379999999999},\n",
       "  {'iteracao': 31, 'meanFitness': 0.7308239999999998},\n",
       "  {'iteracao': 32, 'meanFitness': 0.7308239999999998},\n",
       "  {'iteracao': 33, 'meanFitness': 0.7308239999999998},\n",
       "  {'iteracao': 34, 'meanFitness': 0.7353959999999996},\n",
       "  {'iteracao': 35, 'meanFitness': 0.7353959999999996},\n",
       "  {'iteracao': 36, 'meanFitness': 0.7353959999999996},\n",
       "  {'iteracao': 37, 'meanFitness': 0.7353959999999996},\n",
       "  {'iteracao': 38, 'meanFitness': 0.7506319999999996},\n",
       "  {'iteracao': 39, 'meanFitness': 0.7525359999999998},\n",
       "  {'iteracao': 40, 'meanFitness': 0.7544399999999998},\n",
       "  {'iteracao': 41, 'meanFitness': 0.7590119999999996},\n",
       "  {'iteracao': 42, 'meanFitness': 0.7590119999999996},\n",
       "  {'iteracao': 43, 'meanFitness': 0.7590119999999996},\n",
       "  {'iteracao': 44, 'meanFitness': 0.7590119999999996},\n",
       "  {'iteracao': 45, 'meanFitness': 0.7590119999999996},\n",
       "  {'iteracao': 46, 'meanFitness': 0.7635839999999996},\n",
       "  {'iteracao': 47, 'meanFitness': 0.7635839999999996},\n",
       "  {'iteracao': 48, 'meanFitness': 0.7635839999999996},\n",
       "  {'iteracao': 49, 'meanFitness': 0.7635839999999996},\n",
       "  {'iteracao': 50, 'meanFitness': 0.7654879999999994},\n",
       "  {'iteracao': 51, 'meanFitness': 0.7654879999999994},\n",
       "  {'iteracao': 52, 'meanFitness': 0.7654879999999994},\n",
       "  {'iteracao': 53, 'meanFitness': 0.7673919999999995},\n",
       "  {'iteracao': 54, 'meanFitness': 0.7692959999999995},\n",
       "  {'iteracao': 55, 'meanFitness': 0.7692959999999995},\n",
       "  {'iteracao': 56, 'meanFitness': 0.7738679999999993},\n",
       "  {'iteracao': 57, 'meanFitness': 0.7757719999999995},\n",
       "  {'iteracao': 58, 'meanFitness': 0.7757719999999995},\n",
       "  {'iteracao': 59, 'meanFitness': 0.7803439999999995},\n",
       "  {'iteracao': 60, 'meanFitness': 0.7955799999999996},\n",
       "  {'iteracao': 61, 'meanFitness': 0.7955799999999996},\n",
       "  {'iteracao': 62, 'meanFitness': 0.7974839999999996},\n",
       "  {'iteracao': 63, 'meanFitness': 0.7974839999999996},\n",
       "  {'iteracao': 64, 'meanFitness': 0.7993879999999995},\n",
       "  {'iteracao': 65, 'meanFitness': 0.7993879999999995},\n",
       "  {'iteracao': 66, 'meanFitness': 0.8012919999999996},\n",
       "  {'iteracao': 67, 'meanFitness': 0.8012919999999996},\n",
       "  {'iteracao': 68, 'meanFitness': 0.8039599999999996},\n",
       "  {'iteracao': 69, 'meanFitness': 0.8039599999999996},\n",
       "  {'iteracao': 70, 'meanFitness': 0.8039599999999996},\n",
       "  {'iteracao': 71, 'meanFitness': 0.8039599999999996},\n",
       "  {'iteracao': 72, 'meanFitness': 0.8039599999999996},\n",
       "  {'iteracao': 73, 'meanFitness': 0.8066279999999996},\n",
       "  {'iteracao': 74, 'meanFitness': 0.8066279999999996},\n",
       "  {'iteracao': 75, 'meanFitness': 0.8092959999999997},\n",
       "  {'iteracao': 76, 'meanFitness': 0.8092959999999997},\n",
       "  {'iteracao': 77, 'meanFitness': 0.8092959999999997},\n",
       "  {'iteracao': 78, 'meanFitness': 0.8119639999999997},\n",
       "  {'iteracao': 79, 'meanFitness': 0.8119639999999997},\n",
       "  {'iteracao': 80, 'meanFitness': 0.8119639999999997},\n",
       "  {'iteracao': 81, 'meanFitness': 0.8119639999999997},\n",
       "  {'iteracao': 82, 'meanFitness': 0.8119639999999997},\n",
       "  {'iteracao': 83, 'meanFitness': 0.8146319999999997},\n",
       "  {'iteracao': 84, 'meanFitness': 0.8146319999999997},\n",
       "  {'iteracao': 85, 'meanFitness': 0.8146319999999997},\n",
       "  {'iteracao': 86, 'meanFitness': 0.8146319999999997},\n",
       "  {'iteracao': 87, 'meanFitness': 0.8146319999999997},\n",
       "  {'iteracao': 88, 'meanFitness': 0.8279639999999998},\n",
       "  {'iteracao': 89, 'meanFitness': 0.8279639999999998},\n",
       "  {'iteracao': 90, 'meanFitness': 0.8279639999999998},\n",
       "  {'iteracao': 91, 'meanFitness': 0.8279639999999998},\n",
       "  {'iteracao': 92, 'meanFitness': 0.8306319999999999},\n",
       "  {'iteracao': 93, 'meanFitness': 0.8306319999999999},\n",
       "  {'iteracao': 94, 'meanFitness': 0.8306319999999999},\n",
       "  {'iteracao': 95, 'meanFitness': 0.8306319999999999},\n",
       "  {'iteracao': 96, 'meanFitness': 0.8332999999999998},\n",
       "  {'iteracao': 97, 'meanFitness': 0.8466320000000002},\n",
       "  {'iteracao': 98, 'meanFitness': 0.8733000000000001}])"
      ]
     },
     "execution_count": 91,
     "metadata": {},
     "output_type": "execute_result"
    }
   ],
   "source": [
    "generateSolutionRoleta()"
   ]
  },
  {
   "cell_type": "markdown",
   "metadata": {},
   "source": [
    "#### Rodando o código com a seleção usando roleta 30 vezes"
   ]
  },
  {
   "cell_type": "code",
   "execution_count": 92,
   "metadata": {},
   "outputs": [],
   "source": [
    "def run30Roleta():\n",
    "    aux = []\n",
    "    print('Executando: ', end= ' ')\n",
    "    for x in range(0,30):\n",
    "        print(x, end=' ')\n",
    "        chess, results = generateSolutionRoleta()\n",
    "        aux.append(results[-1])\n",
    "    return pd.DataFrame(aux)    "
   ]
  },
  {
   "cell_type": "code",
   "execution_count": 93,
   "metadata": {},
   "outputs": [
    {
     "name": "stdout",
     "output_type": "stream",
     "text": [
      "Executando:  0 1 2 3 4 5 6 7 8 9 10 11 12 13 14 15 16 17 18 19 20 21 22 23 24 25 26 27 28 29 "
     ]
    }
   ],
   "source": [
    "df_roleta = run30Roleta()"
   ]
  },
  {
   "cell_type": "code",
   "execution_count": 94,
   "metadata": {},
   "outputs": [
    {
     "data": {
      "text/plain": [
       "count      30.000000\n",
       "mean      225.433333\n",
       "std       262.793702\n",
       "min         0.000000\n",
       "25%         6.250000\n",
       "50%       127.000000\n",
       "75%       327.750000\n",
       "max      1014.000000\n",
       "Name: iteracao, dtype: float64"
      ]
     },
     "execution_count": 94,
     "metadata": {},
     "output_type": "execute_result"
    }
   ],
   "source": [
    "df_roleta.loc[:,'iteracao'].describe()"
   ]
  },
  {
   "cell_type": "code",
   "execution_count": 95,
   "metadata": {},
   "outputs": [
    {
     "data": {
      "text/plain": [
       "count    30.000000\n",
       "mean      0.880772\n",
       "std       0.189721\n",
       "min       0.632640\n",
       "25%       0.689156\n",
       "50%       0.895320\n",
       "75%       1.022143\n",
       "max       1.243236\n",
       "Name: meanFitness, dtype: float64"
      ]
     },
     "execution_count": 95,
     "metadata": {},
     "output_type": "execute_result"
    }
   ],
   "source": [
    "df_roleta.loc[:,'meanFitness'].describe()"
   ]
  },
  {
   "cell_type": "code",
   "execution_count": 96,
   "metadata": {},
   "outputs": [
    {
     "data": {
      "image/png": "[encoded data removed]",
      "text/plain": [
       "<Figure size 1080x288 with 1 Axes>"
      ]
     },
     "metadata": {
      "needs_background": "light"
     },
     "output_type": "display_data"
    }
   ],
   "source": [
    "generateLinearPlot(df_roleta)"
   ]
  },
  {
   "cell_type": "code",
   "execution_count": 97,
   "metadata": {},
   "outputs": [
    {
     "data": {
      "image/png": "[encoded data removed]",
      "text/plain": [
       "<Figure size 1080x288 with 1 Axes>"
      ]
     },
     "metadata": {
      "needs_background": "light"
     },
     "output_type": "display_data"
    }
   ],
   "source": [
    "generateScatterPlot(df_roleta)"
   ]
  },
  {
   "cell_type": "markdown",
   "metadata": {},
   "source": [
    "# Alterando o tipo da recombinação"
   ]
  },
  {
   "cell_type": "markdown",
   "metadata": {},
   "source": [
    "Na primeira parte foi usada a recombinação “cut-and-crossfill” usarei duas novas abordagens:\n",
    "* Cruzamento uniforme\n",
    "* N-points"
   ]
  },
  {
   "cell_type": "markdown",
   "metadata": {},
   "source": [
    "### Cruzamento uniforme"
   ]
  },
  {
   "cell_type": "code",
   "execution_count": 74,
   "metadata": {},
   "outputs": [],
   "source": [
    "def cruzamentoUniforme(pai1, pai2):\n",
    "    filhos = []\n",
    "    escolha = randint(0,1)\n",
    "    if escolha == 1:\n",
    "        for x in range(0,8):\n",
    "            print(x)\n",
    "    else:\n",
    "        for x in range(0,8):\n",
    "            print(x)\n",
    "    return escolha"
   ]
  },
  {
   "cell_type": "code",
   "execution_count": 75,
   "metadata": {},
   "outputs": [
    {
     "name": "stdout",
     "output_type": "stream",
     "text": [
      "0\n",
      "1\n",
      "2\n",
      "3\n",
      "4\n",
      "5\n",
      "6\n",
      "7\n"
     ]
    },
    {
     "data": {
      "text/plain": [
       "1"
      ]
     },
     "execution_count": 75,
     "metadata": {},
     "output_type": "execute_result"
    }
   ],
   "source": [
    "cruzamentoUniforme(1,2)"
   ]
  },
  {
   "cell_type": "code",
   "execution_count": null,
   "metadata": {},
   "outputs": [],
   "source": []
  }
 ],
 "metadata": {
  "kernelspec": {
   "display_name": "Python 3",
   "language": "python",
   "name": "python3"
  },
  "language_info": {
   "codemirror_mode": {
    "name": "ipython",
    "version": 3
   },
   "file_extension": ".py",
   "mimetype": "text/x-python",
   "name": "python",
   "nbconvert_exporter": "python",
   "pygments_lexer": "ipython3",
   "version": "3.8.2"
  }
 },
 "nbformat": 4,
 "nbformat_minor": 4
}
