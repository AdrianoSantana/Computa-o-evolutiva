{
 "cells": [
  {
   "cell_type": "markdown",
   "metadata": {},
   "source": [
    "* Representação\n",
    "* Seleção dos pais\n",
    "* Recombinação\n",
    "* Mutação\n",
    "* Seleção dos sobreviventes"
   ]
  },
  {
   "cell_type": "code",
   "execution_count": 1,
   "metadata": {},
   "outputs": [],
   "source": [
    "from random import randint\n",
    "from math import floor, ceil"
   ]
  },
  {
   "cell_type": "markdown",
   "metadata": {},
   "source": [
    "### Criação da população"
   ]
  },
  {
   "cell_type": "code",
   "execution_count": 2,
   "metadata": {},
   "outputs": [],
   "source": [
    "population = []\n",
    "fitness_value = []\n",
    "probabilityParents = []\n",
    "vectorChooseParents = []\n",
    "chosenParents = []"
   ]
  },
  {
   "cell_type": "code",
   "execution_count": 3,
   "metadata": {},
   "outputs": [],
   "source": [
    "def generate_random_population():\n",
    "    for x in range(4):\n",
    "        population.append([])\n",
    "        for y in range(5):\n",
    "            bitValue = randint(0,1)\n",
    "            population[x].append(bitValue)"
   ]
  },
  {
   "cell_type": "markdown",
   "metadata": {},
   "source": [
    "### Calculo Valor do fitness"
   ]
  },
  {
   "cell_type": "code",
   "execution_count": 4,
   "metadata": {},
   "outputs": [],
   "source": [
    "def fitnessFunction():\n",
    "    for member in population:\n",
    "        aux = ''\n",
    "        for gene in member:\n",
    "            aux += str(gene)\n",
    "        response = int(aux,2) * int(aux,2)\n",
    "        fitness_value.append(response)"
   ]
  },
  {
   "cell_type": "code",
   "execution_count": 5,
   "metadata": {},
   "outputs": [],
   "source": [
    "def meanFitnessValue():\n",
    "    aux = 0\n",
    "    for value in fitness_value:\n",
    "        aux += value\n",
    "    return round(aux/len(fitness_value))"
   ]
  },
  {
   "cell_type": "code",
   "execution_count": 6,
   "metadata": {},
   "outputs": [],
   "source": [
    "def sumFitnessValue():\n",
    "    aux = 0\n",
    "    for value in fitness_value:\n",
    "        aux += value\n",
    "    return aux"
   ]
  },
  {
   "cell_type": "markdown",
   "metadata": {},
   "source": [
    "## Criação da seleção de pais"
   ]
  },
  {
   "cell_type": "code",
   "execution_count": 7,
   "metadata": {},
   "outputs": [],
   "source": [
    "def generateProbabilityParents():\n",
    "    sumFitness = sumFitnessValue()\n",
    "    for memberPosition in range(len(population)):\n",
    "        probabilityParents.append(fitness_value[memberPosition] / sumFitness)"
   ]
  },
  {
   "cell_type": "code",
   "execution_count": 8,
   "metadata": {},
   "outputs": [],
   "source": [
    "def CreatevectorParentToChoose():\n",
    "    position = 0\n",
    "    for x in probabilityParents:\n",
    "        qntity = ceil(x * len(population))\n",
    "        for y in range(qntity):\n",
    "            vectorChooseParents.append(position)\n",
    "        position += 1\n",
    "        qntity = 0"
   ]
  },
  {
   "cell_type": "code",
   "execution_count": 9,
   "metadata": {},
   "outputs": [],
   "source": [
    "def parentSelection():\n",
    "    generateProbabilityParents()\n",
    "    CreatevectorParentToChoose()\n",
    "    for x in range(len(population)):\n",
    "        valueRandom = randint(0, len(population))\n",
    "        chosenParents.append(vectorChooseParents[valueRandom])"
   ]
  },
  {
   "cell_type": "code",
   "execution_count": 10,
   "metadata": {},
   "outputs": [],
   "source": [
    "def main():\n",
    "    generate_random_population()\n",
    "    print('Population:', population)\n",
    "    fitnessFunction()\n",
    "    print('Fitness Value:', fitness_value)\n",
    "    parentSelection()\n",
    "    print('ProbabilityParens:', probabilityParents)\n",
    "    print('VectorChoose:', vectorChooseParents)\n",
    "    print('Pais selecionados', chosenParents)"
   ]
  },
  {
   "cell_type": "code",
   "execution_count": 11,
   "metadata": {
    "scrolled": true
   },
   "outputs": [
    {
     "name": "stdout",
     "output_type": "stream",
     "text": [
      "Population: [[1, 0, 0, 1, 1], [0, 1, 1, 1, 0], [0, 0, 0, 1, 0], [0, 1, 0, 0, 1]]\n",
      "Fitness Value: [361, 196, 4, 81]\n",
      "ProbabilityParens: [0.5623052959501558, 0.3052959501557632, 0.006230529595015576, 0.1261682242990654]\n",
      "VectorChoose: [0, 0, 0, 1, 1, 2, 3]\n",
      "Pais selecionados [0, 0, 0, 1]\n"
     ]
    }
   ],
   "source": [
    "main()"
   ]
  },
  {
   "cell_type": "code",
   "execution_count": null,
   "metadata": {},
   "outputs": [],
   "source": []
  }
 ],
 "metadata": {
  "kernelspec": {
   "display_name": "Python 3",
   "language": "python",
   "name": "python3"
  },
  "language_info": {
   "codemirror_mode": {
    "name": "ipython",
    "version": 3
   },
   "file_extension": ".py",
   "mimetype": "text/x-python",
   "name": "python",
   "nbconvert_exporter": "python",
   "pygments_lexer": "ipython3",
   "version": "3.8.2"
  }
 },
 "nbformat": 4,
 "nbformat_minor": 4
}
